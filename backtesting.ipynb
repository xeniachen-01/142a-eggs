{
 "cells": [
  {
   "cell_type": "code",
   "execution_count": 12,
   "id": "6fa2438c",
   "metadata": {},
   "outputs": [],
   "source": [
    "import pandas as pd\n",
    "import numpy as np\n",
    "from sklearn.model_selection import train_test_split\n",
    "from sklearn.linear_model import LinearRegression\n",
    "import seaborn as sns\n",
    "from sklearn.metrics import mean_squared_error, r2_score\n",
    "from sklearn.ensemble import RandomForestRegressor"
   ]
  },
  {
   "cell_type": "code",
   "execution_count": 2,
   "id": "ad1f6156",
   "metadata": {},
   "outputs": [],
   "source": [
    "X = pd.read_csv(r\"/Users/nikitamehendale/Downloads/142A_Final_Project/142a-eggs/X.csv\")\n",
    "egg = pd.read_csv(r\"/Users/nikitamehendale/Downloads/142A_Final_Project/142a-eggs/y.csv\")"
   ]
  },
  {
   "cell_type": "code",
   "execution_count": 3,
   "id": "a8797e4f",
   "metadata": {},
   "outputs": [],
   "source": [
    "# Join X and y on their indices\n",
    "X['egg_price'] = egg\n",
    "\n",
    "# Add a new column 'Y' which is the 'egg_price' column shifted down by 1 entry\n",
    "X['Y'] = X['egg_price'].shift(-1)"
   ]
  },
  {
   "cell_type": "code",
   "execution_count": 4,
   "id": "43ef6aee",
   "metadata": {},
   "outputs": [],
   "source": [
    "X_train, X_test, y_train, y_test = train_test_split(X.drop(columns=['Y', 'Year-Month']), X['Y'], test_size=0.25, shuffle = False)"
   ]
  },
  {
   "cell_type": "code",
   "execution_count": 5,
   "id": "c39775d3",
   "metadata": {},
   "outputs": [],
   "source": [
    "# Import the library that contains all the functions/modules related to the regression model\n",
    "import statsmodels.api as sm\n",
    "from statsmodels.stats.outliers_influence import variance_inflation_factor"
   ]
  },
  {
   "cell_type": "code",
   "execution_count": 6,
   "id": "e9e6a313",
   "metadata": {},
   "outputs": [
    {
     "data": {
      "text/html": [
       "<div>\n",
       "<style scoped>\n",
       "    .dataframe tbody tr th:only-of-type {\n",
       "        vertical-align: middle;\n",
       "    }\n",
       "\n",
       "    .dataframe tbody tr th {\n",
       "        vertical-align: top;\n",
       "    }\n",
       "\n",
       "    .dataframe thead th {\n",
       "        text-align: right;\n",
       "    }\n",
       "</style>\n",
       "<table border=\"1\" class=\"dataframe\">\n",
       "  <thead>\n",
       "    <tr style=\"text-align: right;\">\n",
       "      <th></th>\n",
       "      <th>const</th>\n",
       "      <th>Outbreaks</th>\n",
       "      <th>bacon price</th>\n",
       "      <th>potato price</th>\n",
       "      <th>soybean price</th>\n",
       "      <th>wheat price</th>\n",
       "      <th>corn price</th>\n",
       "      <th>egg_hols</th>\n",
       "      <th>Thanksgiving</th>\n",
       "      <th>Passover/Easter</th>\n",
       "      <th>gas price</th>\n",
       "      <th>egg_price</th>\n",
       "    </tr>\n",
       "  </thead>\n",
       "  <tbody>\n",
       "    <tr>\n",
       "      <th>0</th>\n",
       "      <td>1.0</td>\n",
       "      <td>8</td>\n",
       "      <td>7.097</td>\n",
       "      <td>0.802</td>\n",
       "      <td>15.885375</td>\n",
       "      <td>390.50</td>\n",
       "      <td>6.500600</td>\n",
       "      <td>False</td>\n",
       "      <td>False</td>\n",
       "      <td>False</td>\n",
       "      <td>3.611</td>\n",
       "      <td>2.005</td>\n",
       "    </tr>\n",
       "    <tr>\n",
       "      <th>1</th>\n",
       "      <td>1.0</td>\n",
       "      <td>56</td>\n",
       "      <td>7.203</td>\n",
       "      <td>0.825</td>\n",
       "      <td>16.733152</td>\n",
       "      <td>486.30</td>\n",
       "      <td>7.465652</td>\n",
       "      <td>False</td>\n",
       "      <td>False</td>\n",
       "      <td>False</td>\n",
       "      <td>4.322</td>\n",
       "      <td>2.046</td>\n",
       "    </tr>\n",
       "    <tr>\n",
       "      <th>2</th>\n",
       "      <td>1.0</td>\n",
       "      <td>68</td>\n",
       "      <td>7.422</td>\n",
       "      <td>0.849</td>\n",
       "      <td>16.798190</td>\n",
       "      <td>495.28</td>\n",
       "      <td>7.859310</td>\n",
       "      <td>False</td>\n",
       "      <td>False</td>\n",
       "      <td>True</td>\n",
       "      <td>4.213</td>\n",
       "      <td>2.520</td>\n",
       "    </tr>\n",
       "    <tr>\n",
       "      <th>3</th>\n",
       "      <td>1.0</td>\n",
       "      <td>56</td>\n",
       "      <td>7.364</td>\n",
       "      <td>0.875</td>\n",
       "      <td>16.583690</td>\n",
       "      <td>522.29</td>\n",
       "      <td>7.838690</td>\n",
       "      <td>False</td>\n",
       "      <td>False</td>\n",
       "      <td>False</td>\n",
       "      <td>4.545</td>\n",
       "      <td>2.863</td>\n",
       "    </tr>\n",
       "    <tr>\n",
       "      <th>4</th>\n",
       "      <td>1.0</td>\n",
       "      <td>14</td>\n",
       "      <td>7.403</td>\n",
       "      <td>0.891</td>\n",
       "      <td>16.876064</td>\n",
       "      <td>459.59</td>\n",
       "      <td>7.597964</td>\n",
       "      <td>False</td>\n",
       "      <td>False</td>\n",
       "      <td>False</td>\n",
       "      <td>5.032</td>\n",
       "      <td>2.707</td>\n",
       "    </tr>\n",
       "  </tbody>\n",
       "</table>\n",
       "</div>"
      ],
      "text/plain": [
       "   const  Outbreaks  bacon price  potato price  soybean price  wheat price  \\\n",
       "0    1.0          8        7.097         0.802      15.885375       390.50   \n",
       "1    1.0         56        7.203         0.825      16.733152       486.30   \n",
       "2    1.0         68        7.422         0.849      16.798190       495.28   \n",
       "3    1.0         56        7.364         0.875      16.583690       522.29   \n",
       "4    1.0         14        7.403         0.891      16.876064       459.59   \n",
       "\n",
       "   corn price  egg_hols  Thanksgiving  Passover/Easter  gas price  egg_price  \n",
       "0    6.500600     False         False            False      3.611      2.005  \n",
       "1    7.465652     False         False            False      4.322      2.046  \n",
       "2    7.859310     False         False             True      4.213      2.520  \n",
       "3    7.838690     False         False            False      4.545      2.863  \n",
       "4    7.597964     False         False            False      5.032      2.707  "
      ]
     },
     "execution_count": 6,
     "metadata": {},
     "output_type": "execute_result"
    }
   ],
   "source": [
    "# We must add an intercept as the standard model doesn't automatically fit one\n",
    "X_train = sm.add_constant(X_train)\n",
    "X_test = sm.add_constant(X_test)\n",
    "X_train.head()"
   ]
  },
  {
   "cell_type": "code",
   "execution_count": 7,
   "id": "3ede29cb",
   "metadata": {},
   "outputs": [
    {
     "data": {
      "text/html": [
       "<div>\n",
       "<style scoped>\n",
       "    .dataframe tbody tr th:only-of-type {\n",
       "        vertical-align: middle;\n",
       "    }\n",
       "\n",
       "    .dataframe tbody tr th {\n",
       "        vertical-align: top;\n",
       "    }\n",
       "\n",
       "    .dataframe thead th {\n",
       "        text-align: right;\n",
       "    }\n",
       "</style>\n",
       "<table border=\"1\" class=\"dataframe\">\n",
       "  <thead>\n",
       "    <tr style=\"text-align: right;\">\n",
       "      <th></th>\n",
       "      <th>const</th>\n",
       "      <th>Outbreaks</th>\n",
       "      <th>bacon price</th>\n",
       "      <th>potato price</th>\n",
       "      <th>soybean price</th>\n",
       "      <th>wheat price</th>\n",
       "      <th>corn price</th>\n",
       "      <th>egg_hols</th>\n",
       "      <th>Thanksgiving</th>\n",
       "      <th>Passover/Easter</th>\n",
       "      <th>gas price</th>\n",
       "      <th>egg_price</th>\n",
       "    </tr>\n",
       "  </thead>\n",
       "  <tbody>\n",
       "    <tr>\n",
       "      <th>24</th>\n",
       "      <td>1.0</td>\n",
       "      <td>8</td>\n",
       "      <td>6.637</td>\n",
       "      <td>0.971</td>\n",
       "      <td>11.648636</td>\n",
       "      <td>272.30</td>\n",
       "      <td>4.344432</td>\n",
       "      <td>False</td>\n",
       "      <td>False</td>\n",
       "      <td>True</td>\n",
       "      <td>3.733</td>\n",
       "      <td>2.864</td>\n",
       "    </tr>\n",
       "    <tr>\n",
       "      <th>25</th>\n",
       "      <td>1.0</td>\n",
       "      <td>10</td>\n",
       "      <td>6.818</td>\n",
       "      <td>0.964</td>\n",
       "      <td>12.184348</td>\n",
       "      <td>289.42</td>\n",
       "      <td>4.555543</td>\n",
       "      <td>False</td>\n",
       "      <td>False</td>\n",
       "      <td>False</td>\n",
       "      <td>3.725</td>\n",
       "      <td>2.699</td>\n",
       "    </tr>\n",
       "    <tr>\n",
       "      <th>26</th>\n",
       "      <td>1.0</td>\n",
       "      <td>8</td>\n",
       "      <td>6.827</td>\n",
       "      <td>0.993</td>\n",
       "      <td>11.724500</td>\n",
       "      <td>265.55</td>\n",
       "      <td>4.395250</td>\n",
       "      <td>False</td>\n",
       "      <td>False</td>\n",
       "      <td>False</td>\n",
       "      <td>3.576</td>\n",
       "      <td>2.715</td>\n",
       "    </tr>\n",
       "    <tr>\n",
       "      <th>27</th>\n",
       "      <td>1.0</td>\n",
       "      <td>3</td>\n",
       "      <td>6.883</td>\n",
       "      <td>1.017</td>\n",
       "      <td>11.180000</td>\n",
       "      <td>260.26</td>\n",
       "      <td>3.990978</td>\n",
       "      <td>False</td>\n",
       "      <td>False</td>\n",
       "      <td>False</td>\n",
       "      <td>3.600</td>\n",
       "      <td>3.080</td>\n",
       "    </tr>\n",
       "    <tr>\n",
       "      <th>28</th>\n",
       "      <td>1.0</td>\n",
       "      <td>4</td>\n",
       "      <td>6.955</td>\n",
       "      <td>1.009</td>\n",
       "      <td>10.128571</td>\n",
       "      <td>269.69</td>\n",
       "      <td>4.005595</td>\n",
       "      <td>False</td>\n",
       "      <td>False</td>\n",
       "      <td>False</td>\n",
       "      <td>3.338</td>\n",
       "      <td>3.821</td>\n",
       "    </tr>\n",
       "    <tr>\n",
       "      <th>29</th>\n",
       "      <td>1.0</td>\n",
       "      <td>20</td>\n",
       "      <td>6.869</td>\n",
       "      <td>0.998</td>\n",
       "      <td>10.032174</td>\n",
       "      <td>272.85</td>\n",
       "      <td>4.160978</td>\n",
       "      <td>False</td>\n",
       "      <td>False</td>\n",
       "      <td>False</td>\n",
       "      <td>3.261</td>\n",
       "      <td>3.370</td>\n",
       "    </tr>\n",
       "    <tr>\n",
       "      <th>30</th>\n",
       "      <td>1.0</td>\n",
       "      <td>93</td>\n",
       "      <td>6.843</td>\n",
       "      <td>0.956</td>\n",
       "      <td>9.953810</td>\n",
       "      <td>253.75</td>\n",
       "      <td>4.238333</td>\n",
       "      <td>False</td>\n",
       "      <td>True</td>\n",
       "      <td>False</td>\n",
       "      <td>3.175</td>\n",
       "      <td>3.649</td>\n",
       "    </tr>\n",
       "    <tr>\n",
       "      <th>31</th>\n",
       "      <td>1.0</td>\n",
       "      <td>294</td>\n",
       "      <td>6.915</td>\n",
       "      <td>0.949</td>\n",
       "      <td>9.833182</td>\n",
       "      <td>252.17</td>\n",
       "      <td>4.405909</td>\n",
       "      <td>True</td>\n",
       "      <td>False</td>\n",
       "      <td>False</td>\n",
       "      <td>3.139</td>\n",
       "      <td>4.146</td>\n",
       "    </tr>\n",
       "    <tr>\n",
       "      <th>32</th>\n",
       "      <td>1.0</td>\n",
       "      <td>36</td>\n",
       "      <td>7.044</td>\n",
       "      <td>0.973</td>\n",
       "      <td>10.284783</td>\n",
       "      <td>254.09</td>\n",
       "      <td>4.749891</td>\n",
       "      <td>False</td>\n",
       "      <td>False</td>\n",
       "      <td>False</td>\n",
       "      <td>3.196</td>\n",
       "      <td>4.953</td>\n",
       "    </tr>\n",
       "  </tbody>\n",
       "</table>\n",
       "</div>"
      ],
      "text/plain": [
       "    const  Outbreaks  bacon price  potato price  soybean price  wheat price  \\\n",
       "24    1.0          8        6.637         0.971      11.648636       272.30   \n",
       "25    1.0         10        6.818         0.964      12.184348       289.42   \n",
       "26    1.0          8        6.827         0.993      11.724500       265.55   \n",
       "27    1.0          3        6.883         1.017      11.180000       260.26   \n",
       "28    1.0          4        6.955         1.009      10.128571       269.69   \n",
       "29    1.0         20        6.869         0.998      10.032174       272.85   \n",
       "30    1.0         93        6.843         0.956       9.953810       253.75   \n",
       "31    1.0        294        6.915         0.949       9.833182       252.17   \n",
       "32    1.0         36        7.044         0.973      10.284783       254.09   \n",
       "\n",
       "    corn price  egg_hols  Thanksgiving  Passover/Easter  gas price  egg_price  \n",
       "24    4.344432     False         False             True      3.733      2.864  \n",
       "25    4.555543     False         False            False      3.725      2.699  \n",
       "26    4.395250     False         False            False      3.576      2.715  \n",
       "27    3.990978     False         False            False      3.600      3.080  \n",
       "28    4.005595     False         False            False      3.338      3.821  \n",
       "29    4.160978     False         False            False      3.261      3.370  \n",
       "30    4.238333     False          True            False      3.175      3.649  \n",
       "31    4.405909      True         False            False      3.139      4.146  \n",
       "32    4.749891     False         False            False      3.196      4.953  "
      ]
     },
     "execution_count": 7,
     "metadata": {},
     "output_type": "execute_result"
    }
   ],
   "source": [
    "X_test"
   ]
  },
  {
   "cell_type": "code",
   "execution_count": 8,
   "id": "ed91f33d",
   "metadata": {},
   "outputs": [],
   "source": [
    "lr = LinearRegression()\n",
    "lr.fit(X_train, y_train)\n",
    "pred = lr.predict(X_test)"
   ]
  },
  {
   "cell_type": "code",
   "execution_count": 9,
   "id": "ec0ff7c6",
   "metadata": {},
   "outputs": [
    {
     "data": {
      "text/plain": [
       "24    2.699\n",
       "25    2.715\n",
       "26    3.080\n",
       "27    3.821\n",
       "28    3.370\n",
       "29    3.649\n",
       "30    4.146\n",
       "31    4.953\n",
       "32      NaN\n",
       "Name: Y, dtype: float64"
      ]
     },
     "execution_count": 9,
     "metadata": {},
     "output_type": "execute_result"
    }
   ],
   "source": [
    "y_test"
   ]
  },
  {
   "cell_type": "code",
   "execution_count": 10,
   "id": "9728c1d6",
   "metadata": {},
   "outputs": [
    {
     "name": "stdout",
     "output_type": "stream",
     "text": [
      "Mean Squared Error: 0.11314197594249534\n",
      "R-squared: 0.7782321765827889\n"
     ]
    },
    {
     "data": {
      "image/png": "[encoded data removed]",
      "text/plain": [
       "<Figure size 1000x600 with 1 Axes>"
      ]
     },
     "metadata": {},
     "output_type": "display_data"
    }
   ],
   "source": [
    "# Calculate the mean squared error and R-squared value  \n",
    "mse = mean_squared_error(y_test.iloc[:-1], pred[:-1])\n",
    "r2 = r2_score(y_test.iloc[:-1], pred[:-1])\n",
    "print(f'Mean Squared Error: {mse}')\n",
    "print(f'R-squared: {r2}')\n",
    "\n",
    "# Calculate the residuals\n",
    "residuals = y_test.iloc[:-1] - pred[:-1]\n",
    "\n",
    "# Create a DataFrame for the residuals  \n",
    "residuals_df = pd.DataFrame({'Actual': y_test.iloc[:-1], 'Predicted': pred[:-1], 'Residuals': residuals})\n",
    "\n",
    "\n",
    "# Plot the residuals\n",
    "import matplotlib.pyplot as plt\n",
    "plt.figure(figsize=(10, 6))\n",
    "plt.scatter(pred[:-1], residuals, alpha=0.5)\n",
    "plt.axhline(0, color='red', linestyle='--')\n",
    "plt.title('Residuals vs Predicted Values')\n",
    "plt.xlabel('Predicted Values')\n",
    "plt.ylabel('Residuals')\n",
    "plt.show()"
   ]
  },
  {
   "cell_type": "markdown",
   "id": "f2b535fd",
   "metadata": {},
   "source": [
    "# ***Random Forest Backtesting***"
   ]
  },
  {
   "cell_type": "code",
   "execution_count": 16,
   "id": "eb6a6330",
   "metadata": {},
   "outputs": [
    {
     "name": "stdout",
     "output_type": "stream",
     "text": [
      "Mean Squared Error (Random Forest): 0.19938662056250045\n",
      "R-squared (Random Forest): 0.6091853930221907\n"
     ]
    }
   ],
   "source": [
    "#Random Forest\n",
    "rf = RandomForestRegressor(n_estimators=100, random_state=42)\n",
    "rf.fit(X_train, y_train)\n",
    "pred_rf = rf.predict(X_test)\n",
    "# Calculate the mean squared error and R-squared value\n",
    "mse_rf = mean_squared_error(y_test.iloc[:-1], pred_rf[:-1])\n",
    "r2_rf = r2_score(y_test.iloc[:-1], pred_rf[:-1])\n",
    "print(f'Mean Squared Error (Random Forest): {mse_rf}')\n",
    "print(f'R-squared (Random Forest): {r2_rf}')\n"
   ]
  },
  {
   "cell_type": "code",
   "execution_count": 17,
   "id": "43e7eaa5",
   "metadata": {},
   "outputs": [
    {
     "data": {
      "image/png": "[encoded data removed]",
      "text/plain": [
       "<Figure size 1000x600 with 1 Axes>"
      ]
     },
     "metadata": {},
     "output_type": "display_data"
    }
   ],
   "source": [
    "# Calculate the residuals\n",
    "residuals_rf = y_test.iloc[:-1] - pred_rf[:-1]\n",
    "# Create a DataFrame for the residuals\n",
    "residuals_rf_df = pd.DataFrame({'Actual': y_test.iloc[:-1], 'Predicted': pred_rf[:-1], 'Residuals': residuals_rf})\n",
    "# Plot the residuals\n",
    "plt.figure(figsize=(10, 6))\n",
    "plt.scatter(pred_rf[:-1], residuals_rf, alpha=0.5)\n",
    "plt.axhline(0, color='red', linestyle='--')\n",
    "plt.title('Residuals vs Predicted Values (Random Forest)')\n",
    "plt.xlabel('Predicted Values')\n",
    "plt.ylabel('Residuals')\n",
    "plt.show()"
   ]
  },
  {
   "cell_type": "code",
   "execution_count": 18,
   "id": "640c2189",
   "metadata": {},
   "outputs": [
    {
     "name": "stdout",
     "output_type": "stream",
     "text": [
      "Feature ranking:\n",
      "1. feature egg_price (0.7727541106124197)\n",
      "2. feature potato price (0.0749096940876376)\n",
      "3. feature Outbreaks (0.04612827478499531)\n",
      "4. feature soybean price (0.021384076126372498)\n",
      "5. feature bacon price (0.01875266887316051)\n",
      "6. feature gas price (0.017987983158383448)\n",
      "7. feature corn price (0.017089251623746273)\n",
      "8. feature wheat price (0.011682775544907624)\n",
      "9. feature egg_hols (0.011074074595243347)\n",
      "10. feature Thanksgiving (0.006533433131820483)\n",
      "11. feature Passover/Easter (0.0017036574613132972)\n",
      "12. feature const (0.0)\n"
     ]
    },
    {
     "data": {
      "text/plain": [
       "([<matplotlib.axis.XTick at 0x112c42990>,\n",
       "  <matplotlib.axis.XTick at 0x112c39bd0>,\n",
       "  <matplotlib.axis.XTick at 0x112c3a350>,\n",
       "  <matplotlib.axis.XTick at 0x112c3aad0>,\n",
       "  <matplotlib.axis.XTick at 0x112c3b250>,\n",
       "  <matplotlib.axis.XTick at 0x112c3b9d0>,\n",
       "  <matplotlib.axis.XTick at 0x112b64190>,\n",
       "  <matplotlib.axis.XTick at 0x112b64910>,\n",
       "  <matplotlib.axis.XTick at 0x112b65090>,\n",
       "  <matplotlib.axis.XTick at 0x112b65810>,\n",
       "  <matplotlib.axis.XTick at 0x112b65f90>,\n",
       "  <matplotlib.axis.XTick at 0x112b66710>],\n",
       " [Text(0, 0, 'egg_price'),\n",
       "  Text(1, 0, 'potato price'),\n",
       "  Text(2, 0, 'Outbreaks'),\n",
       "  Text(3, 0, 'soybean price'),\n",
       "  Text(4, 0, 'bacon price'),\n",
       "  Text(5, 0, 'gas price'),\n",
       "  Text(6, 0, 'corn price'),\n",
       "  Text(7, 0, 'wheat price'),\n",
       "  Text(8, 0, 'egg_hols'),\n",
       "  Text(9, 0, 'Thanksgiving'),\n",
       "  Text(10, 0, 'Passover/Easter'),\n",
       "  Text(11, 0, 'const')])"
      ]
     },
     "execution_count": 18,
     "metadata": {},
     "output_type": "execute_result"
    },
    {
     "data": {
      "image/png": "[encoded data removed]",
      "text/plain": [
       "<Figure size 1000x600 with 1 Axes>"
      ]
     },
     "metadata": {},
     "output_type": "display_data"
    }
   ],
   "source": [
    "# Feature Importance\n",
    "importances = rf.feature_importances_\n",
    "feature_names = X_train.columns\n",
    "indices = np.argsort(importances)[::-1]\n",
    "# Print the feature ranking\n",
    "print(\"Feature ranking:\")\n",
    "for f in range(X_train.shape[1]):\n",
    "    print(f\"{f + 1}. feature {feature_names[indices[f]]} ({importances[indices[f]]})\")\n",
    "# Plot the feature importances\n",
    "plt.figure(figsize=(10, 6))\n",
    "plt.title(\"Feature importances\")\n",
    "plt.bar(range(X_train.shape[1]), importances[indices], align=\"center\")\n",
    "plt.xticks(range(X_train.shape[1]), feature_names[indices], rotation=90)"
   ]
  }
 ],
 "metadata": {
  "kernelspec": {
   "display_name": "base",
   "language": "python",
   "name": "python3"
  },
  "language_info": {
   "codemirror_mode": {
    "name": "ipython",
    "version": 3
   },
   "file_extension": ".py",
   "mimetype": "text/x-python",
   "name": "python",
   "nbconvert_exporter": "python",
   "pygments_lexer": "ipython3",
   "version": "3.13.2"
  }
 },
 "nbformat": 4,
 "nbformat_minor": 5
}
