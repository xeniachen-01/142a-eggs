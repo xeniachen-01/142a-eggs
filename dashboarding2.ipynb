{
 "cells": [
  {
   "cell_type": "code",
   "execution_count": 221,
   "id": "a7e6ea81",
   "metadata": {},
   "outputs": [
    {
     "data": {
      "application/vnd.plotly.v1+json": {
       "config": {
        "plotlyServerURL": "https://plot.ly"
       },
       "data": [
        {
         "marker": {
          "color": "lightblue"
         },
         "name": "Before CV",
         "type": "bar",
         "x": [
          "Linear Regression",
          "Random Forest"
         ],
         "xaxis": "x",
         "y": [
          0.526,
          -0.053
         ],
         "yaxis": "y"
        },
        {
         "marker": {
          "color": "steelblue"
         },
         "name": "After CV",
         "type": "bar",
         "x": [
          "Linear Regression",
          "Random Forest"
         ],
         "xaxis": "x",
         "y": [
          0.658,
          0.171
         ],
         "yaxis": "y"
        },
        {
         "marker": {
          "color": "lightcoral"
         },
         "name": "Before CV",
         "type": "bar",
         "x": [
          "Linear Regression",
          "Random Forest"
         ],
         "xaxis": "x2",
         "y": [
          0.496,
          0.74
         ],
         "yaxis": "y2"
        },
        {
         "marker": {
          "color": "indianred"
         },
         "name": "After CV",
         "type": "bar",
         "x": [
          "Linear Regression",
          "Random Forest"
         ],
         "xaxis": "x2",
         "y": [
          0.177,
          0.431
         ],
         "yaxis": "y2"
        }
       ],
       "layout": {
        "annotations": [
         {
          "font": {
           "size": 16
          },
          "showarrow": false,
          "text": "R² Scores",
          "x": 0.2125,
          "xanchor": "center",
          "xref": "paper",
          "y": 1,
          "yanchor": "bottom",
          "yref": "paper"
         },
         {
          "font": {
           "size": 16
          },
          "showarrow": false,
          "text": "RMSE Scores",
          "x": 0.7875,
          "xanchor": "center",
          "xref": "paper",
          "y": 1,
          "yanchor": "bottom",
          "yref": "paper"
         }
        ],
        "barmode": "group",
        "height": 450,
        "legend": {
         "orientation": "h",
         "x": 0.5,
         "xanchor": "center",
         "y": -0.3,
         "yanchor": "bottom"
        },
        "template": {
         "data": {
          "bar": [
           {
            "error_x": {
             "color": "#2a3f5f"
            },
            "error_y": {
             "color": "#2a3f5f"
            },
            "marker": {
             "line": {
              "color": "#E5ECF6",
              "width": 0.5
             },
             "pattern": {
              "fillmode": "overlay",
              "size": 10,
              "solidity": 0.2
             }
            },
            "type": "bar"
           }
          ],
          "barpolar": [
           {
            "marker": {
             "line": {
              "color": "#E5ECF6",
              "width": 0.5
             },
             "pattern": {
              "fillmode": "overlay",
              "size": 10,
              "solidity": 0.2
             }
            },
            "type": "barpolar"
           }
          ],
          "carpet": [
           {
            "aaxis": {
             "endlinecolor": "#2a3f5f",
             "gridcolor": "white",
             "linecolor": "white",
             "minorgridcolor": "white",
             "startlinecolor": "#2a3f5f"
            },
            "baxis": {
             "endlinecolor": "#2a3f5f",
             "gridcolor": "white",
             "linecolor": "white",
             "minorgridcolor": "white",
             "startlinecolor": "#2a3f5f"
            },
            "type": "carpet"
           }
          ],
          "choropleth": [
           {
            "colorbar": {
             "outlinewidth": 0,
             "ticks": ""
            },
            "type": "choropleth"
           }
          ],
          "contour": [
           {
            "colorbar": {
             "outlinewidth": 0,
             "ticks": ""
            },
            "colorscale": [
             [
              0,
              "#0d0887"
             ],
             [
              0.1111111111111111,
              "#46039f"
             ],
             [
              0.2222222222222222,
              "#7201a8"
             ],
             [
              0.3333333333333333,
              "#9c179e"
             ],
             [
              0.4444444444444444,
              "#bd3786"
             ],
             [
              0.5555555555555556,
              "#d8576b"
             ],
             [
              0.6666666666666666,
              "#ed7953"
             ],
             [
              0.7777777777777778,
              "#fb9f3a"
             ],
             [
              0.8888888888888888,
              "#fdca26"
             ],
             [
              1,
              "#f0f921"
             ]
            ],
            "type": "contour"
           }
          ],
          "contourcarpet": [
           {
            "colorbar": {
             "outlinewidth": 0,
             "ticks": ""
            },
            "type": "contourcarpet"
           }
          ],
          "heatmap": [
           {
            "colorbar": {
             "outlinewidth": 0,
             "ticks": ""
            },
            "colorscale": [
             [
              0,
              "#0d0887"
             ],
             [
              0.1111111111111111,
              "#46039f"
             ],
             [
              0.2222222222222222,
              "#7201a8"
             ],
             [
              0.3333333333333333,
              "#9c179e"
             ],
             [
              0.4444444444444444,
              "#bd3786"
             ],
             [
              0.5555555555555556,
              "#d8576b"
             ],
             [
              0.6666666666666666,
              "#ed7953"
             ],
             [
              0.7777777777777778,
              "#fb9f3a"
             ],
             [
              0.8888888888888888,
              "#fdca26"
             ],
             [
              1,
              "#f0f921"
             ]
            ],
            "type": "heatmap"
           }
          ],
          "heatmapgl": [
           {
            "colorbar": {
             "outlinewidth": 0,
             "ticks": ""
            },
            "colorscale": [
             [
              0,
              "#0d0887"
             ],
             [
              0.1111111111111111,
              "#46039f"
             ],
             [
              0.2222222222222222,
              "#7201a8"
             ],
             [
              0.3333333333333333,
              "#9c179e"
             ],
             [
              0.4444444444444444,
              "#bd3786"
             ],
             [
              0.5555555555555556,
              "#d8576b"
             ],
             [
              0.6666666666666666,
              "#ed7953"
             ],
             [
              0.7777777777777778,
              "#fb9f3a"
             ],
             [
              0.8888888888888888,
              "#fdca26"
             ],
             [
              1,
              "#f0f921"
             ]
            ],
            "type": "heatmapgl"
           }
          ],
          "histogram": [
           {
            "marker": {
             "pattern": {
              "fillmode": "overlay",
              "size": 10,
              "solidity": 0.2
             }
            },
            "type": "histogram"
           }
          ],
          "histogram2d": [
           {
            "colorbar": {
             "outlinewidth": 0,
             "ticks": ""
            },
            "colorscale": [
             [
              0,
              "#0d0887"
             ],
             [
              0.1111111111111111,
              "#46039f"
             ],
             [
              0.2222222222222222,
              "#7201a8"
             ],
             [
              0.3333333333333333,
              "#9c179e"
             ],
             [
              0.4444444444444444,
              "#bd3786"
             ],
             [
              0.5555555555555556,
              "#d8576b"
             ],
             [
              0.6666666666666666,
              "#ed7953"
             ],
             [
              0.7777777777777778,
              "#fb9f3a"
             ],
             [
              0.8888888888888888,
              "#fdca26"
             ],
             [
              1,
              "#f0f921"
             ]
            ],
            "type": "histogram2d"
           }
          ],
          "histogram2dcontour": [
           {
            "colorbar": {
             "outlinewidth": 0,
             "ticks": ""
            },
            "colorscale": [
             [
              0,
              "#0d0887"
             ],
             [
              0.1111111111111111,
              "#46039f"
             ],
             [
              0.2222222222222222,
              "#7201a8"
             ],
             [
              0.3333333333333333,
              "#9c179e"
             ],
             [
              0.4444444444444444,
              "#bd3786"
             ],
             [
              0.5555555555555556,
              "#d8576b"
             ],
             [
              0.6666666666666666,
              "#ed7953"
             ],
             [
              0.7777777777777778,
              "#fb9f3a"
             ],
             [
              0.8888888888888888,
              "#fdca26"
             ],
             [
              1,
              "#f0f921"
             ]
            ],
            "type": "histogram2dcontour"
           }
          ],
          "mesh3d": [
           {
            "colorbar": {
             "outlinewidth": 0,
             "ticks": ""
            },
            "type": "mesh3d"
           }
          ],
          "parcoords": [
           {
            "line": {
             "colorbar": {
              "outlinewidth": 0,
              "ticks": ""
             }
            },
            "type": "parcoords"
           }
          ],
          "pie": [
           {
            "automargin": true,
            "type": "pie"
           }
          ],
          "scatter": [
           {
            "fillpattern": {
             "fillmode": "overlay",
             "size": 10,
             "solidity": 0.2
            },
            "type": "scatter"
           }
          ],
          "scatter3d": [
           {
            "line": {
             "colorbar": {
              "outlinewidth": 0,
              "ticks": ""
             }
            },
            "marker": {
             "colorbar": {
              "outlinewidth": 0,
              "ticks": ""
             }
            },
            "type": "scatter3d"
           }
          ],
          "scattercarpet": [
           {
            "marker": {
             "colorbar": {
              "outlinewidth": 0,
              "ticks": ""
             }
            },
            "type": "scattercarpet"
           }
          ],
          "scattergeo": [
           {
            "marker": {
             "colorbar": {
              "outlinewidth": 0,
              "ticks": ""
             }
            },
            "type": "scattergeo"
           }
          ],
          "scattergl": [
           {
            "marker": {
             "colorbar": {
              "outlinewidth": 0,
              "ticks": ""
             }
            },
            "type": "scattergl"
           }
          ],
          "scattermapbox": [
           {
            "marker": {
             "colorbar": {
              "outlinewidth": 0,
              "ticks": ""
             }
            },
            "type": "scattermapbox"
           }
          ],
          "scatterpolar": [
           {
            "marker": {
             "colorbar": {
              "outlinewidth": 0,
              "ticks": ""
             }
            },
            "type": "scatterpolar"
           }
          ],
          "scatterpolargl": [
           {
            "marker": {
             "colorbar": {
              "outlinewidth": 0,
              "ticks": ""
             }
            },
            "type": "scatterpolargl"
           }
          ],
          "scatterternary": [
           {
            "marker": {
             "colorbar": {
              "outlinewidth": 0,
              "ticks": ""
             }
            },
            "type": "scatterternary"
           }
          ],
          "surface": [
           {
            "colorbar": {
             "outlinewidth": 0,
             "ticks": ""
            },
            "colorscale": [
             [
              0,
              "#0d0887"
             ],
             [
              0.1111111111111111,
              "#46039f"
             ],
             [
              0.2222222222222222,
              "#7201a8"
             ],
             [
              0.3333333333333333,
              "#9c179e"
             ],
             [
              0.4444444444444444,
              "#bd3786"
             ],
             [
              0.5555555555555556,
              "#d8576b"
             ],
             [
              0.6666666666666666,
              "#ed7953"
             ],
             [
              0.7777777777777778,
              "#fb9f3a"
             ],
             [
              0.8888888888888888,
              "#fdca26"
             ],
             [
              1,
              "#f0f921"
             ]
            ],
            "type": "surface"
           }
          ],
          "table": [
           {
            "cells": {
             "fill": {
              "color": "#EBF0F8"
             },
             "line": {
              "color": "white"
             }
            },
            "header": {
             "fill": {
              "color": "#C8D4E3"
             },
             "line": {
              "color": "white"
             }
            },
            "type": "table"
           }
          ]
         },
         "layout": {
          "annotationdefaults": {
           "arrowcolor": "#2a3f5f",
           "arrowhead": 0,
           "arrowwidth": 1
          },
          "autotypenumbers": "strict",
          "coloraxis": {
           "colorbar": {
            "outlinewidth": 0,
            "ticks": ""
           }
          },
          "colorscale": {
           "diverging": [
            [
             0,
             "#8e0152"
            ],
            [
             0.1,
             "#c51b7d"
            ],
            [
             0.2,
             "#de77ae"
            ],
            [
             0.3,
             "#f1b6da"
            ],
            [
             0.4,
             "#fde0ef"
            ],
            [
             0.5,
             "#f7f7f7"
            ],
            [
             0.6,
             "#e6f5d0"
            ],
            [
             0.7,
             "#b8e186"
            ],
            [
             0.8,
             "#7fbc41"
            ],
            [
             0.9,
             "#4d9221"
            ],
            [
             1,
             "#276419"
            ]
           ],
           "sequential": [
            [
             0,
             "#0d0887"
            ],
            [
             0.1111111111111111,
             "#46039f"
            ],
            [
             0.2222222222222222,
             "#7201a8"
            ],
            [
             0.3333333333333333,
             "#9c179e"
            ],
            [
             0.4444444444444444,
             "#bd3786"
            ],
            [
             0.5555555555555556,
             "#d8576b"
            ],
            [
             0.6666666666666666,
             "#ed7953"
            ],
            [
             0.7777777777777778,
             "#fb9f3a"
            ],
            [
             0.8888888888888888,
             "#fdca26"
            ],
            [
             1,
             "#f0f921"
            ]
           ],
           "sequentialminus": [
            [
             0,
             "#0d0887"
            ],
            [
             0.1111111111111111,
             "#46039f"
            ],
            [
             0.2222222222222222,
             "#7201a8"
            ],
            [
             0.3333333333333333,
             "#9c179e"
            ],
            [
             0.4444444444444444,
             "#bd3786"
            ],
            [
             0.5555555555555556,
             "#d8576b"
            ],
            [
             0.6666666666666666,
             "#ed7953"
            ],
            [
             0.7777777777777778,
             "#fb9f3a"
            ],
            [
             0.8888888888888888,
             "#fdca26"
            ],
            [
             1,
             "#f0f921"
            ]
           ]
          },
          "colorway": [
           "#636efa",
           "#EF553B",
           "#00cc96",
           "#ab63fa",
           "#FFA15A",
           "#19d3f3",
           "#FF6692",
           "#B6E880",
           "#FF97FF",
           "#FECB52"
          ],
          "font": {
           "color": "#2a3f5f"
          },
          "geo": {
           "bgcolor": "white",
           "lakecolor": "white",
           "landcolor": "#E5ECF6",
           "showlakes": true,
           "showland": true,
           "subunitcolor": "white"
          },
          "hoverlabel": {
           "align": "left"
          },
          "hovermode": "closest",
          "mapbox": {
           "style": "light"
          },
          "paper_bgcolor": "white",
          "plot_bgcolor": "#E5ECF6",
          "polar": {
           "angularaxis": {
            "gridcolor": "white",
            "linecolor": "white",
            "ticks": ""
           },
           "bgcolor": "#E5ECF6",
           "radialaxis": {
            "gridcolor": "white",
            "linecolor": "white",
            "ticks": ""
           }
          },
          "scene": {
           "xaxis": {
            "backgroundcolor": "#E5ECF6",
            "gridcolor": "white",
            "gridwidth": 2,
            "linecolor": "white",
            "showbackground": true,
            "ticks": "",
            "zerolinecolor": "white"
           },
           "yaxis": {
            "backgroundcolor": "#E5ECF6",
            "gridcolor": "white",
            "gridwidth": 2,
            "linecolor": "white",
            "showbackground": true,
            "ticks": "",
            "zerolinecolor": "white"
           },
           "zaxis": {
            "backgroundcolor": "#E5ECF6",
            "gridcolor": "white",
            "gridwidth": 2,
            "linecolor": "white",
            "showbackground": true,
            "ticks": "",
            "zerolinecolor": "white"
           }
          },
          "shapedefaults": {
           "line": {
            "color": "#2a3f5f"
           }
          },
          "ternary": {
           "aaxis": {
            "gridcolor": "white",
            "linecolor": "white",
            "ticks": ""
           },
           "baxis": {
            "gridcolor": "white",
            "linecolor": "white",
            "ticks": ""
           },
           "bgcolor": "#E5ECF6",
           "caxis": {
            "gridcolor": "white",
            "linecolor": "white",
            "ticks": ""
           }
          },
          "title": {
           "x": 0.05
          },
          "xaxis": {
           "automargin": true,
           "gridcolor": "white",
           "linecolor": "white",
           "ticks": "",
           "title": {
            "standoff": 15
           },
           "zerolinecolor": "white",
           "zerolinewidth": 2
          },
          "yaxis": {
           "automargin": true,
           "gridcolor": "white",
           "linecolor": "white",
           "ticks": "",
           "title": {
            "standoff": 15
           },
           "zerolinecolor": "white",
           "zerolinewidth": 2
          }
         }
        },
        "title": {
         "text": "Before vs After CV R² Scores & RMSE Scores (Pre Backtesting)"
        },
        "xaxis": {
         "anchor": "y",
         "domain": [
          0,
          0.425
         ],
         "title": {
          "text": "Model"
         }
        },
        "xaxis2": {
         "anchor": "y2",
         "domain": [
          0.575,
          1
         ],
         "title": {
          "text": "Model"
         }
        },
        "yaxis": {
         "anchor": "x",
         "domain": [
          0,
          1
         ],
         "title": {
          "text": "R² Score"
         }
        },
        "yaxis2": {
         "anchor": "x2",
         "domain": [
          0,
          1
         ],
         "title": {
          "text": "RMSE"
         }
        }
       }
      }
     },
     "metadata": {},
     "output_type": "display_data"
    }
   ],
   "source": [
    "# Import packages\n",
    "from dash import Dash, html, dash_table, dcc\n",
    "import pandas as pd\n",
    "import numpy as np\n",
    "import plotly.express as px\n",
    "from sklearn.model_selection import train_test_split\n",
    "import plotly.graph_objects as go\n",
    "from plotly.subplots import make_subplots\n",
    "\n",
    "from backtest import feature_importance\n",
    "\n",
    "# Incorporate data\n",
    "X = pd.read_csv('X.csv')\n",
    "y = pd.read_csv('y.csv')\n",
    "df = pd.read_csv('df.csv')\n",
    "\n",
    "egg = pd.read_csv(r\"y.csv\")\n",
    "\n",
    "# Join X and y on their indices\n",
    "X['egg_price'] = egg\n",
    "\n",
    "# Add a new column 'Y' which is the 'egg_price' column shifted down by 1 entry\n",
    "X['Y'] = X['egg_price'].shift(-1)\n",
    "\n",
    "X_train, X_test, y_train, y_test = train_test_split(X.drop(columns=['Y', 'Year-Month']), X['Y'], test_size=0.25, shuffle = False)\n",
    "\n",
    "# Precomputed summaries\n",
    "price_summary = df['Price'].describe().reset_index()\n",
    "\n",
    "# Ensure 'Year-Month' is in datetime format for correlation calculation\n",
    "X['Year-Month'] = pd.to_datetime(X['Year-Month'], format='%Y-%m', errors='coerce')\n",
    "\n",
    "# Drop non-numeric columns before calculating the correlation matrix\n",
    "corr_matrix = X_train.corr()\n",
    "\n",
    "# Calculate the percentage increase from the previous month's price\n",
    "latest_price = y.iloc[-1]\n",
    "previous_price = y.iloc[-2]\n",
    "percent_increase = (((latest_price - previous_price) / previous_price) * 100).iloc[0]\n",
    "\n",
    "feature_importance = feature_importance.drop(\"const\")\n",
    "\n",
    "#R2 and RMSE values pre-backtest\n",
    "# Models\n",
    "models = [\"Linear Regression\", \"Random Forest\"]\n",
    "\n",
    "# R² values\n",
    "r2_before = [0.526, -0.053]\n",
    "r2_after = [0.658, 0.171]\n",
    "\n",
    "# RMSE values\n",
    "rmse_before = [0.496, 0.740]\n",
    "rmse_after = [0.177, 0.431]\n",
    "\n",
    "# Build the figure for Pre Backtest Performance\n",
    "fig_pre = make_subplots(\n",
    "    rows=1, cols=2,\n",
    "    subplot_titles=(\"R² Scores\", \"RMSE Scores\"),\n",
    "    shared_xaxes=False,\n",
    "    horizontal_spacing=0.15\n",
    ")\n",
    "\n",
    "# R²\n",
    "fig_pre.add_trace(go.Bar(name=\"Before CV\", x=models, y=r2_before, marker_color='lightblue'), row=1, col=1).add_trace(go.Bar(name=\"After CV\", x=models, y=r2_after, marker_color='steelblue'), row=1, col=1)\n",
    "\n",
    "# RMSE\n",
    "fig_pre.add_trace(go.Bar(name=\"Before CV\", x=models, y=rmse_before, marker_color='lightcoral'), row=1, col=2).add_trace(go.Bar(name=\"After CV\", x=models, y=rmse_after, marker_color='indianred'), row=1, col=2)\n",
    "\n",
    "fig_pre.update_layout(\n",
    "    barmode='group',\n",
    "    height=450,\n",
    "    title_text=\"Before vs After CV R² Scores & RMSE Scores (Pre Backtesting)\",\n",
    "    legend=dict(\n",
    "        orientation=\"h\",\n",
    "        yanchor=\"bottom\",\n",
    "        y=-0.3,\n",
    "        xanchor=\"center\",\n",
    "        x=0.5\n",
    "    )\n",
    ")\n",
    "fig_pre.update_yaxes(title_text=\"R² Score\", row=1, col=1).update_yaxes(title_text=\"RMSE\", row=1, col=2).update_xaxes(title_text=\"Model\", row=1, col=1).update_xaxes(title_text=\"Model\", row=1, col=2)\n"
   ]
  },
  {
   "cell_type": "markdown",
   "id": "9350dabe",
   "metadata": {},
   "source": [
    "## Older version"
   ]
  },
  {
   "cell_type": "code",
   "execution_count": null,
   "id": "e9ebd9ab",
   "metadata": {},
   "outputs": [
    {
     "ename": "KeyError",
     "evalue": "\"['const'] not found in axis\"",
     "output_type": "error",
     "traceback": [
      "\u001b[1;31m---------------------------------------------------------------------------\u001b[0m",
      "\u001b[1;31mKeyError\u001b[0m                                  Traceback (most recent call last)",
      "Cell \u001b[1;32mIn[27], line 9\u001b[0m\n\u001b[0;32m      5\u001b[0m X[\u001b[38;5;124m'\u001b[39m\u001b[38;5;124mYear-Month\u001b[39m\u001b[38;5;124m'\u001b[39m] \u001b[38;5;241m=\u001b[39m pd\u001b[38;5;241m.\u001b[39mto_datetime(X[\u001b[38;5;124m'\u001b[39m\u001b[38;5;124mYear-Month\u001b[39m\u001b[38;5;124m'\u001b[39m], \u001b[38;5;28mformat\u001b[39m\u001b[38;5;241m=\u001b[39m\u001b[38;5;124m'\u001b[39m\u001b[38;5;124m%\u001b[39m\u001b[38;5;124mY-\u001b[39m\u001b[38;5;124m%\u001b[39m\u001b[38;5;124mm\u001b[39m\u001b[38;5;124m'\u001b[39m, errors\u001b[38;5;241m=\u001b[39m\u001b[38;5;124m'\u001b[39m\u001b[38;5;124mcoerce\u001b[39m\u001b[38;5;124m'\u001b[39m)\n\u001b[0;32m      7\u001b[0m \u001b[38;5;66;03m# Drop non-numeric columns before calculating the correlation matrix\u001b[39;00m\n\u001b[0;32m      8\u001b[0m \u001b[38;5;66;03m#corr_matrix = X.select_dtypes(include=[np.number]).corr()\u001b[39;00m\n\u001b[1;32m----> 9\u001b[0m corr_matrix \u001b[38;5;241m=\u001b[39m X\u001b[38;5;241m.\u001b[39mdrop(columns\u001b[38;5;241m=\u001b[39m[\u001b[38;5;124m'\u001b[39m\u001b[38;5;124mconst\u001b[39m\u001b[38;5;124m'\u001b[39m])\u001b[38;5;241m.\u001b[39mcorr()\n\u001b[0;32m     11\u001b[0m \u001b[38;5;66;03m# Initialize the app\u001b[39;00m\n\u001b[0;32m     12\u001b[0m app \u001b[38;5;241m=\u001b[39m Dash()\n",
      "File \u001b[1;32mc:\\Users\\marsh\\anaconda3\\Lib\\site-packages\\pandas\\core\\frame.py:5581\u001b[0m, in \u001b[0;36mDataFrame.drop\u001b[1;34m(self, labels, axis, index, columns, level, inplace, errors)\u001b[0m\n\u001b[0;32m   5433\u001b[0m \u001b[38;5;28;01mdef\u001b[39;00m \u001b[38;5;21mdrop\u001b[39m(\n\u001b[0;32m   5434\u001b[0m     \u001b[38;5;28mself\u001b[39m,\n\u001b[0;32m   5435\u001b[0m     labels: IndexLabel \u001b[38;5;241m|\u001b[39m \u001b[38;5;28;01mNone\u001b[39;00m \u001b[38;5;241m=\u001b[39m \u001b[38;5;28;01mNone\u001b[39;00m,\n\u001b[1;32m   (...)\u001b[0m\n\u001b[0;32m   5442\u001b[0m     errors: IgnoreRaise \u001b[38;5;241m=\u001b[39m \u001b[38;5;124m\"\u001b[39m\u001b[38;5;124mraise\u001b[39m\u001b[38;5;124m\"\u001b[39m,\n\u001b[0;32m   5443\u001b[0m ) \u001b[38;5;241m-\u001b[39m\u001b[38;5;241m>\u001b[39m DataFrame \u001b[38;5;241m|\u001b[39m \u001b[38;5;28;01mNone\u001b[39;00m:\n\u001b[0;32m   5444\u001b[0m \u001b[38;5;250m    \u001b[39m\u001b[38;5;124;03m\"\"\"\u001b[39;00m\n\u001b[0;32m   5445\u001b[0m \u001b[38;5;124;03m    Drop specified labels from rows or columns.\u001b[39;00m\n\u001b[0;32m   5446\u001b[0m \n\u001b[1;32m   (...)\u001b[0m\n\u001b[0;32m   5579\u001b[0m \u001b[38;5;124;03m            weight  1.0     0.8\u001b[39;00m\n\u001b[0;32m   5580\u001b[0m \u001b[38;5;124;03m    \"\"\"\u001b[39;00m\n\u001b[1;32m-> 5581\u001b[0m     \u001b[38;5;28;01mreturn\u001b[39;00m \u001b[38;5;28msuper\u001b[39m()\u001b[38;5;241m.\u001b[39mdrop(\n\u001b[0;32m   5582\u001b[0m         labels\u001b[38;5;241m=\u001b[39mlabels,\n\u001b[0;32m   5583\u001b[0m         axis\u001b[38;5;241m=\u001b[39maxis,\n\u001b[0;32m   5584\u001b[0m         index\u001b[38;5;241m=\u001b[39mindex,\n\u001b[0;32m   5585\u001b[0m         columns\u001b[38;5;241m=\u001b[39mcolumns,\n\u001b[0;32m   5586\u001b[0m         level\u001b[38;5;241m=\u001b[39mlevel,\n\u001b[0;32m   5587\u001b[0m         inplace\u001b[38;5;241m=\u001b[39minplace,\n\u001b[0;32m   5588\u001b[0m         errors\u001b[38;5;241m=\u001b[39merrors,\n\u001b[0;32m   5589\u001b[0m     )\n",
      "File \u001b[1;32mc:\\Users\\marsh\\anaconda3\\Lib\\site-packages\\pandas\\core\\generic.py:4788\u001b[0m, in \u001b[0;36mNDFrame.drop\u001b[1;34m(self, labels, axis, index, columns, level, inplace, errors)\u001b[0m\n\u001b[0;32m   4786\u001b[0m \u001b[38;5;28;01mfor\u001b[39;00m axis, labels \u001b[38;5;129;01min\u001b[39;00m axes\u001b[38;5;241m.\u001b[39mitems():\n\u001b[0;32m   4787\u001b[0m     \u001b[38;5;28;01mif\u001b[39;00m labels \u001b[38;5;129;01mis\u001b[39;00m \u001b[38;5;129;01mnot\u001b[39;00m \u001b[38;5;28;01mNone\u001b[39;00m:\n\u001b[1;32m-> 4788\u001b[0m         obj \u001b[38;5;241m=\u001b[39m obj\u001b[38;5;241m.\u001b[39m_drop_axis(labels, axis, level\u001b[38;5;241m=\u001b[39mlevel, errors\u001b[38;5;241m=\u001b[39merrors)\n\u001b[0;32m   4790\u001b[0m \u001b[38;5;28;01mif\u001b[39;00m inplace:\n\u001b[0;32m   4791\u001b[0m     \u001b[38;5;28mself\u001b[39m\u001b[38;5;241m.\u001b[39m_update_inplace(obj)\n",
      "File \u001b[1;32mc:\\Users\\marsh\\anaconda3\\Lib\\site-packages\\pandas\\core\\generic.py:4830\u001b[0m, in \u001b[0;36mNDFrame._drop_axis\u001b[1;34m(self, labels, axis, level, errors, only_slice)\u001b[0m\n\u001b[0;32m   4828\u001b[0m         new_axis \u001b[38;5;241m=\u001b[39m axis\u001b[38;5;241m.\u001b[39mdrop(labels, level\u001b[38;5;241m=\u001b[39mlevel, errors\u001b[38;5;241m=\u001b[39merrors)\n\u001b[0;32m   4829\u001b[0m     \u001b[38;5;28;01melse\u001b[39;00m:\n\u001b[1;32m-> 4830\u001b[0m         new_axis \u001b[38;5;241m=\u001b[39m axis\u001b[38;5;241m.\u001b[39mdrop(labels, errors\u001b[38;5;241m=\u001b[39merrors)\n\u001b[0;32m   4831\u001b[0m     indexer \u001b[38;5;241m=\u001b[39m axis\u001b[38;5;241m.\u001b[39mget_indexer(new_axis)\n\u001b[0;32m   4833\u001b[0m \u001b[38;5;66;03m# Case for non-unique axis\u001b[39;00m\n\u001b[0;32m   4834\u001b[0m \u001b[38;5;28;01melse\u001b[39;00m:\n",
      "File \u001b[1;32mc:\\Users\\marsh\\anaconda3\\Lib\\site-packages\\pandas\\core\\indexes\\base.py:7070\u001b[0m, in \u001b[0;36mIndex.drop\u001b[1;34m(self, labels, errors)\u001b[0m\n\u001b[0;32m   7068\u001b[0m \u001b[38;5;28;01mif\u001b[39;00m mask\u001b[38;5;241m.\u001b[39many():\n\u001b[0;32m   7069\u001b[0m     \u001b[38;5;28;01mif\u001b[39;00m errors \u001b[38;5;241m!=\u001b[39m \u001b[38;5;124m\"\u001b[39m\u001b[38;5;124mignore\u001b[39m\u001b[38;5;124m\"\u001b[39m:\n\u001b[1;32m-> 7070\u001b[0m         \u001b[38;5;28;01mraise\u001b[39;00m \u001b[38;5;167;01mKeyError\u001b[39;00m(\u001b[38;5;124mf\u001b[39m\u001b[38;5;124m\"\u001b[39m\u001b[38;5;132;01m{\u001b[39;00mlabels[mask]\u001b[38;5;241m.\u001b[39mtolist()\u001b[38;5;132;01m}\u001b[39;00m\u001b[38;5;124m not found in axis\u001b[39m\u001b[38;5;124m\"\u001b[39m)\n\u001b[0;32m   7071\u001b[0m     indexer \u001b[38;5;241m=\u001b[39m indexer[\u001b[38;5;241m~\u001b[39mmask]\n\u001b[0;32m   7072\u001b[0m \u001b[38;5;28;01mreturn\u001b[39;00m \u001b[38;5;28mself\u001b[39m\u001b[38;5;241m.\u001b[39mdelete(indexer)\n",
      "\u001b[1;31mKeyError\u001b[0m: \"['const'] not found in axis\""
     ]
    }
   ],
   "source": [
    "# Precompute summaries\n",
    "price_summary = df['Price'].describe().reset_index()\n",
    "\n",
    "# Ensure 'Year-Month' is in datetime format for correlation calculation\n",
    "X['Year-Month'] = pd.to_datetime(X['Year-Month'], format='%Y-%m', errors='coerce')\n",
    "\n",
    "# Drop non-numeric columns before calculating the correlation matrix\n",
    "corr_matrix = X.select_dtypes(include=[np.number]).corr()\n",
    "\n",
    "# Initialize the app\n",
    "app = Dash()\n",
    "\n",
    "# Calculate the percentage increase from the previous month's price\n",
    "latest_price = y.iloc[-1]\n",
    "previous_price = y.iloc[-2]\n",
    "percent_increase = (((latest_price - previous_price) / previous_price) * 100).iloc[0]\n",
    "\n",
    "\n",
    "# App layout\n",
    "app.layout = html.Div([\n",
    "    html.Div('📊 Predicting Egg Prices', style={'textAlign': 'center', 'color': 'black', 'fontSize': 50, 'marginBottom': '20px'}),\n",
    "\n",
    "    # Top row: Summary Cards\n",
    "    html.Div([\n",
    "        html.Div([\n",
    "            html.H5('Latest Price', style={'textAlign': 'center'}),\n",
    "            html.Div(f\"${df['Price'].iloc[-1]:,.2f}\", style={'textAlign': 'center', 'fontSize': 30, 'color': 'green'}),\n",
    "            html.Small(f\"↑ {percent_increase:.2f}% from last month\", style={'display': 'block', 'textAlign': 'center', 'color': 'green'})\n",
    "        ], style={'width': '30%', 'padding': '20px', 'border': '1px solid lightgray', 'borderRadius': '10px', 'margin': '10px'}),\n",
    "\n",
    "        html.Div([\n",
    "            html.H5('Total Records', style={'textAlign': 'center'}),\n",
    "            html.Div(f\"{len(df)}\", style={'textAlign': 'center', 'fontSize': 30, 'color': 'purple'}),\n",
    "        ], style={'width': '30%', 'padding': '20px', 'border': '1px solid lightgray', 'borderRadius': '10px', 'margin': '10px'}),\n",
    "\n",
    "        html.Div([\n",
    "            html.H5('Price Range', style={'textAlign': 'center'}),\n",
    "            html.Div(f\"${df['Price'].min():.0f} - ${df['Price'].max():.0f}\", style={'textAlign': 'center', 'fontSize': 30, 'color': 'orange'}),\n",
    "        ], style={'width': '30%', 'padding': '20px', 'border': '1px solid lightgray', 'borderRadius': '10px', 'margin': '10px'}),\n",
    "    ], style={'display': 'flex', 'justifyContent': 'center'}),\n",
    "\n",
    "    # Second row: Tables (X, y, and Price Summary)\n",
    "    html.Div([\n",
    "        html.Div([\n",
    "            html.H4('X Data'),\n",
    "            dash_table.DataTable(\n",
    "                data=X.to_dict('records'),\n",
    "                columns=[{\"name\": i, \"id\": i} for i in X.columns],\n",
    "                page_size=5,\n",
    "                style_table={'overflowX': 'auto'}\n",
    "            )\n",
    "        ], style={'width': '30%', 'padding': '10px'}),\n",
    "\n",
    "        html.Div([\n",
    "            html.H4('y Data'),\n",
    "            dash_table.DataTable(\n",
    "                data=y.to_dict('records'),\n",
    "                columns=[{\"name\": i, \"id\": i} for i in y.columns],\n",
    "                page_size=5,\n",
    "                style_table={'overflowX': 'auto'}\n",
    "            )\n",
    "        ], style={'width': '30%', 'padding': '10px'}),\n",
    "\n",
    "        html.Div([\n",
    "            html.H4('Price Summary'),\n",
    "            dash_table.DataTable(\n",
    "                data=price_summary.to_dict('records'),\n",
    "                columns=[{\"name\": i, \"id\": i} for i in price_summary.columns],\n",
    "                style_table={'overflowX': 'auto'},\n",
    "                page_size=6\n",
    "            )\n",
    "        ], style={'width': '30%', 'padding': '10px'}),\n",
    "    ], style={'display': 'flex'}),\n",
    "\n",
    "    # Third row: Downloadable CSVs\n",
    "    html.Div([\n",
    "        # Download X.csv\n",
    "        html.Div([\n",
    "            dcc.Download(id='download-x'),\n",
    "            html.A('Download X Data', \n",
    "                   id='download-link-x', \n",
    "                   href='/download-x', \n",
    "                   target='_blank')\n",
    "        ], style={'width': '30%', 'padding': '30px'}),\n",
    "\n",
    "        # Download y.csv\n",
    "        html.Div([\n",
    "            dcc.Download(id='download-y'),\n",
    "            html.A(\n",
    "                'Download y Data',\n",
    "                id='download-link-y',\n",
    "                href='https://raw.githubusercontent.com/xeniachen-01/142a-eggs/main/y.csv',  # Correct raw file URL\n",
    "                target='_blank', # why is target blank?\n",
    "                download='y.csv'  # Suggests a filename for the downloaded file\n",
    "            )\n",
    "        ], style={'width': '30%', 'padding': '30px'}),\n",
    "\n",
    "        # Dropdown menu for individual datasets\n",
    "        # html.Div([\n",
    "        #     html.H4('Download Individual Datasets'),\n",
    "        #     dcc.Dropdown(\n",
    "        #         id='dataset-dropdown',\n",
    "        #         options=[\n",
    "        #             {'label': 'Avian Influenza', 'value': 'americas-outbreaks.csv'},\n",
    "        #             {'label': 'Dataset 2', 'value': 'dataset2.csv'},\n",
    "        #             {'label': 'Dataset 3', 'value': 'dataset3.csv'}\n",
    "        #         ],\n",
    "        #         placeholder='Select a dataset',\n",
    "        #         style={'width': '80%'}\n",
    "        #     ),\n",
    "        #     html.Div(id='download-dataset-container', style={'marginTop': '10px'}),\n",
    "        # ], style={'width': '30%', 'padding': '10px'}),\n",
    "    ], style={'display': 'flex'}),\n",
    "    \n",
    "    # Fourth Row: Line Plot\n",
    "    html.Div([\n",
    "        html.Div([\n",
    "            html.H4('Price Trend (Line Plot)'),\n",
    "            dcc.Graph(figure=px.line(df, x='Year-Month', y='Price', markers=True))\n",
    "        ], style={'width': '100%', 'padding': '10px'}),\n",
    "    ], style={'display': 'flex', 'marginTop': '20px'}),\n",
    "\n",
    "    # Fifth row: Price Dist Histograms and Heatmap Correlation\n",
    "    html.Div([\n",
    "        html.Div([\n",
    "            html.H4('Price Distribution (Histogram)'),\n",
    "            dcc.Graph(figure=px.histogram(df, x='Price', nbins=10))\n",
    "        ], style={'width': '50%', 'padding': '10px'}),\n",
    "\n",
    "        html.Div([\n",
    "            html.H4('Feature Correlations (Heatmap)'),\n",
    "            dcc.Graph(\n",
    "                figure=px.imshow(\n",
    "                    corr_matrix,\n",
    "                    text_auto=True,\n",
    "                    color_continuous_scale='Blues',\n",
    "                    title='Correlation Matrix'\n",
    "                )\n",
    "            )\n",
    "        ], style={'width': '50%', 'padding': '10px'}),\n",
    "    ], style={'display': 'flex', 'marginTop': '20px'}),\n",
    "\n",
    "], style={'padding': '20px'})\n",
    "\n",
    "# Run the app\n",
    "if __name__ == '__main__':\n",
    "    app.run(debug=True)\n"
   ]
  },
  {
   "cell_type": "markdown",
   "id": "84f0b219",
   "metadata": {},
   "source": [
    "## Newer version"
   ]
  },
  {
   "cell_type": "code",
   "execution_count": 222,
   "id": "195e664d",
   "metadata": {},
   "outputs": [
    {
     "data": {
      "text/html": [
       "\n",
       "        <iframe\n",
       "            width=\"100%\"\n",
       "            height=\"650\"\n",
       "            src=\"http://127.0.0.1:8050/\"\n",
       "            frameborder=\"0\"\n",
       "            allowfullscreen\n",
       "            \n",
       "        ></iframe>\n",
       "        "
      ],
      "text/plain": [
       "<IPython.lib.display.IFrame at 0x22418ea0bc0>"
      ]
     },
     "metadata": {},
     "output_type": "display_data"
    }
   ],
   "source": [
    "# Initialize the app\n",
    "app = Dash()\n",
    "\n",
    "# App layout\n",
    "app.layout = html.Div([\n",
    "    html.Div('📊 Predicting Egg Prices', style={'textAlign': 'center', 'color': 'black', 'fontSize': 50, 'marginBottom': '20px'}),\n",
    "\n",
    "    # Top row: Summary Cards\n",
    "    html.Div([\n",
    "        html.Div([\n",
    "            html.H5('Latest Price', style={'textAlign': 'center'}),\n",
    "            html.Div(f\"${df['Price'].iloc[-1]:,.2f}\", style={'textAlign': 'center', 'fontSize': 30, 'color': 'green'}),\n",
    "            html.Small(f\"↑ {percent_increase:.2f}% from last month\", style={'display': 'block', 'textAlign': 'center', 'color': 'green'})\n",
    "        ], style={'width': '30%', 'padding': '20px', 'border': '1px solid lightgray', 'borderRadius': '10px', 'margin': '10px'}),\n",
    "\n",
    "        html.Div([\n",
    "            html.H5('Total Records', style={'textAlign': 'center'}),\n",
    "            html.Div(f\"{len(df)}\", style={'textAlign': 'center', 'fontSize': 30, 'color': 'purple'}),\n",
    "        ], style={'width': '30%', 'padding': '20px', 'border': '1px solid lightgray', 'borderRadius': '10px', 'margin': '10px'}),\n",
    "\n",
    "        html.Div([\n",
    "            html.H5('Price Range', style={'textAlign': 'center'}),\n",
    "            html.Div(f\"${df['Price'].min():.0f} - ${df['Price'].max():.0f}\", style={'textAlign': 'center', 'fontSize': 30, 'color': 'orange'}),\n",
    "        ], style={'width': '30%', 'padding': '20px', 'border': '1px solid lightgray', 'borderRadius': '10px', 'margin': '10px'}),\n",
    "    ], style={'display': 'flex', 'justifyContent': 'center'}),\n",
    "\n",
    "    # Second Row: Line Plot\n",
    "    html.Div([\n",
    "        html.Div([\n",
    "            html.H4('Price Trend (Line Plot)'),\n",
    "            dcc.Graph(figure=px.line(df, x='Year-Month', y='Price', markers=True)\n",
    "                      .update_layout(xaxis_title=\"Time (Year-Month)\", yaxis_title=\"Egg Price ($)\"))\n",
    "        ], style={'width': '100%', 'padding': '10px'}),\n",
    "    ], style={'display': 'flex', 'marginTop': '20px'}),\n",
    "\n",
    "    # Third row: Tables (X, y, and Price Summary)\n",
    "    html.Div([\n",
    "        html.Div([\n",
    "            html.H4('X Data'),\n",
    "            dash_table.DataTable(\n",
    "                data=X.to_dict('records'),\n",
    "                columns=[{\"name\": i, \"id\": i} for i in X.columns],\n",
    "                page_size=5,\n",
    "                style_table={'overflowX': 'auto'}\n",
    "            )\n",
    "        ], style={'width': '30%', 'padding': '10px'}),\n",
    "\n",
    "        html.Div([\n",
    "            html.H4('y Data'),\n",
    "            dash_table.DataTable(\n",
    "                data=y.to_dict('records'),\n",
    "                columns=[{\"name\": i, \"id\": i} for i in y.columns],\n",
    "                page_size=5,\n",
    "                style_table={'overflowX': 'auto'}\n",
    "            )\n",
    "        ], style={'width': '30%', 'padding': '10px'}),\n",
    "\n",
    "        html.Div([\n",
    "            html.H4('Price Summary'),\n",
    "            dash_table.DataTable(\n",
    "                data=price_summary.to_dict('records'),\n",
    "                columns=[{\"name\": i, \"id\": i} for i in price_summary.columns],\n",
    "                style_table={'overflowX': 'auto'},\n",
    "                page_size=6\n",
    "            )\n",
    "        ], style={'width': '30%', 'padding': '10px'}),\n",
    "    ], style={'display': 'flex'}),\n",
    "\n",
    "    # Fourth row: Download buttons\n",
    "    html.Div([\n",
    "        html.Div([\n",
    "            html.Button(\"Download X Data (CSV)\", id=\"btn-download-x\"),\n",
    "            dcc.Download(id=\"download-x\")\n",
    "        ], style={'width': '30%', 'padding': '30px'}),\n",
    "\n",
    "        html.Div([\n",
    "            html.Button(\"Download y Data (CSV)\", id=\"btn-download-y\"),\n",
    "            dcc.Download(id=\"download-y\")\n",
    "        ], style={'width': '30%', 'padding': '30px'}),\n",
    "    ], style={'display': 'flex'}),\n",
    "\n",
    "    # Fifth row: Price Dist Histogram and Feature Correlation Heatmap\n",
    "    html.Div([\n",
    "        html.Div([\n",
    "            html.H4('Price Distribution (Histogram)'),\n",
    "            dcc.Graph(figure=px.histogram(df, x='Price', nbins=10)\n",
    "                      .update_layout(xaxis_title=\"Egg Price ($)\", yaxis_title=\"Frequency\"))\n",
    "        ], style={'width': '50%', 'padding': '10px'}),\n",
    "\n",
    "        html.Div([\n",
    "            html.H4('Feature Correlations (Heatmap)'),\n",
    "            dcc.Graph(\n",
    "                figure=px.imshow(\n",
    "                    corr_matrix,\n",
    "                    text_auto=True,\n",
    "                    color_continuous_scale='Blues',\n",
    "                    title='Correlation Matrix'\n",
    "                ).update_layout(xaxis_title=\"Features\", yaxis_title=\"Features\")\n",
    "            )\n",
    "        ], style={'width': '50%', 'padding': '10px'}),\n",
    "    ], style={'display': 'flex', 'marginTop': '20px'}),\n",
    "\n",
    "    # Sixth row: Model Performances (R2 and RMSE)\n",
    "    html.Div([\n",
    "        html.Div([\n",
    "            dcc.Graph(\n",
    "                figure=make_subplots(\n",
    "                    rows=1, cols=2,\n",
    "                    subplot_titles=(\"R² Scores by Model and Feature Set\", \"RMSE Scores by Model and Feature Set\"),\n",
    "                    shared_xaxes=False,\n",
    "                    horizontal_spacing=0.15\n",
    "                )\n",
    "                .add_trace(go.Bar(\n",
    "                    name='Linear R²',\n",
    "                    x=[\"Top 3\", \"Top 4\", \"Top 5\"],\n",
    "                    y=[0.4681, 0.5887, 0.7403],\n",
    "                    marker_color='cornflowerblue'\n",
    "                ), row=1, col=1)\n",
    "                .add_trace(go.Bar(\n",
    "                    name='Random Forest R²',\n",
    "                    x=[\"Top 3\", \"Top 4\", \"Top 5\"],\n",
    "                    y=[0.4856, 0.5468, 0.5468],\n",
    "                    marker_color='royalblue'\n",
    "                ), row=1, col=1)\n",
    "                .add_trace(go.Bar(\n",
    "                    name='Linear RMSE',\n",
    "                    x=[\"Top 3\", \"Top 4\", \"Top 5\"],\n",
    "                    y=[0.5209, 0.4581, 0.3640],\n",
    "                    marker_color='lightcoral'\n",
    "                ), row=1, col=2)\n",
    "                .add_trace(go.Bar(\n",
    "                    name='Random Forest RMSE',\n",
    "                    x=[\"Top 3\", \"Top 4\", \"Top 5\"],\n",
    "                    y=[0.5123, 0.4809, 0.4809],\n",
    "                    marker_color='indianred'\n",
    "                ), row=1, col=2)\n",
    "                .update_layout(\n",
    "                    barmode='group',\n",
    "                    title_text=\"R² and RMSE Scores (Post Backtesting)\",\n",
    "                    height=450,\n",
    "                    showlegend=True,\n",
    "                    legend=dict(\n",
    "                        orientation=\"h\",\n",
    "                        yanchor=\"bottom\",\n",
    "                        y=-0.3,\n",
    "                        xanchor=\"center\",\n",
    "                        x=0.5\n",
    "                    ),\n",
    "                    margin=dict(t=60)\n",
    "                )\n",
    "                .update_xaxes(title_text=\"Top N Features\", row=1, col=1)\n",
    "                .update_xaxes(title_text=\"Top N Features\", row=1, col=2)\n",
    "                .update_yaxes(title_text=\"R² Score\", row=1, col=1)\n",
    "                .update_yaxes(title_text=\"RMSE\", row=1, col=2)\n",
    "            )\n",
    "        ], style={'width': '100%', 'padding': '10px'}),\n",
    "    ], style={'display': 'flex', 'marginTop': '30px'}),\n",
    "\n",
    "    # Seventh row: Feature Importance\n",
    "    html.Div([\n",
    "        html.Div([\n",
    "            html.H4('Feature Importance'),\n",
    "            dcc.Graph(\n",
    "                figure=px.bar(\n",
    "                    x=feature_importance.values,\n",
    "                    y=feature_importance.index,\n",
    "                    orientation='h'\n",
    "                ).update_layout(\n",
    "                    xaxis_title='Coefficient Value',\n",
    "                    yaxis_title='Feature',\n",
    "                    showlegend=False  # 👈 hides the \"variable: 0\" legend\n",
    "                )\n",
    "            )\n",
    "        ], style={'width': '100%', 'padding': '0px'}),\n",
    "    ], style={'display': 'flex', 'marginTop': '20px'}),\n",
    "], style={'backgroundColor':'#fffdf6ff', 'padding': '20px'})\n",
    "\n",
    "\n",
    "\n",
    "from dash.dependencies import Input, Output\n",
    "import base64\n",
    "import io\n",
    "\n",
    "@app.callback(\n",
    "    Output(\"download-x\", \"data\"),\n",
    "    Input(\"btn-download-x\", \"n_clicks\"),\n",
    "    prevent_initial_call=True,\n",
    ")\n",
    "def download_x(n_clicks):\n",
    "    return dcc.send_data_frame(X.to_csv, \"X.csv\", index=False)\n",
    "\n",
    "@app.callback(\n",
    "    Output(\"download-y\", \"data\"),\n",
    "    Input(\"btn-download-y\", \"n_clicks\"),\n",
    "    prevent_initial_call=True,\n",
    ")\n",
    "def download_y(n_clicks):\n",
    "    return dcc.send_data_frame(y.to_csv, \"y.csv\", index=False)\n",
    "\n",
    "# Run the app\n",
    "if __name__ == '__main__':\n",
    "    app.run(debug=True)"
   ]
  },
  {
   "cell_type": "markdown",
   "id": "fed52edb",
   "metadata": {},
   "source": [
    "## Happy with version details, reformatting."
   ]
  },
  {
   "cell_type": "code",
   "execution_count": 224,
   "id": "a76dbaa7",
   "metadata": {},
   "outputs": [
    {
     "data": {
      "text/html": [
       "\n",
       "        <iframe\n",
       "            width=\"100%\"\n",
       "            height=\"650\"\n",
       "            src=\"http://127.0.0.1:8050/\"\n",
       "            frameborder=\"0\"\n",
       "            allowfullscreen\n",
       "            \n",
       "        ></iframe>\n",
       "        "
      ],
      "text/plain": [
       "<IPython.lib.display.IFrame at 0x2241a41cf80>"
      ]
     },
     "metadata": {},
     "output_type": "display_data"
    }
   ],
   "source": [
    "# Initialize the app\n",
    "app = Dash()\n",
    "\n",
    "# App layout\n",
    "app.layout = html.Div([\n",
    "    html.Div('Predicting Egg Prices', style={'textAlign': 'left', 'color': 'black', 'font': 'Poppins', 'fontSize': 100, 'marginBottom': '20px'}),\n",
    "    \n",
    "    # First row: Price Cards\n",
    "    html.Div([\n",
    "        html.Div([\n",
    "            html.H5('Latest Price', style={'textAlign': 'left', 'fontSize': 25, 'fontWeight': 'bold'}),\n",
    "            html.Div(f\"${df['Price'].iloc[-1]:,.2f}\", style={'textAlign': 'center', 'fontSize': 75, 'color': 'green', 'minHeight': '100px'}),\n",
    "            html.Small(f\"↑ {percent_increase:.2f}% from last month\", style={'display': 'block', 'textAlign': 'center', 'color': 'green', 'minHeight': '50px'})\n",
    "        ], style={'width': '50%', 'padding': '10px', 'border': '1px solid lightgray', 'borderRadius': '10px', 'margin': '10px'}),\n",
    "        html.Div([\n",
    "            html.H5('Price Range', style={'textAlign': 'left','fontSize': 25, 'fontWeight': 'bold'}),\n",
    "            html.Div(f\"${df['Price'].min():.0f} - ${df['Price'].max():.0f}\", style={'textAlign': 'center', 'fontSize': 40, 'color': 'orange'}),\n",
    "        ], style={'width': '30%', 'padding': '10px', 'border': '1px solid lightgray', 'borderRadius': '10px', 'margin': '10px'}),\n",
    "    ], style={'display': 'flex', 'justifyContent': 'center'}),\n",
    "\n",
    "    # Second Row: Line Plot\n",
    "    html.Div([\n",
    "        html.Div([\n",
    "            html.H4('Price Trend (Line Plot)', style={'fontSize': 25, 'fontWeight': 'bold'}),\n",
    "            dcc.Graph(figure=px.line(df, x='Year-Month', y='Price', markers=True)\n",
    "                      .update_layout(xaxis_title=\"Time (Year-Month)\", yaxis_title=\"Egg Price ($)\"))\n",
    "        ], style={'width': '100%', 'padding': '10px'}),\n",
    "    ], style={'display': 'flex', 'marginTop': '20px'}),\n",
    "\n",
    "    # Third row: Price Dist Histogram and Price Summary\n",
    "    html.Div([\n",
    "        html.Div([\n",
    "            html.H4('Price Distribution (Histogram)', style={'fontSize': 25, 'fontWeight': 'bold'}),\n",
    "            dcc.Graph(figure=px.histogram(df, x='Price', nbins=10))\n",
    "        ], style={'width': '60%', 'padding': '10px'}),\n",
    "\n",
    "        html.Div([\n",
    "            html.H4('Price Summary', style={'fontSize': 25, 'fontWeight': 'bold'}),\n",
    "            dash_table.DataTable(\n",
    "                data=price_summary.to_dict('records'),\n",
    "                columns=[{\"name\": i, \"id\": i} for i in price_summary.columns],\n",
    "                page_size=6,            )\n",
    "        ], style={'width': '35%', 'padding': '10px', 'minHeight': '300px'})\n",
    "    ], style={'display': 'flex', 'justifyContent': 'space-between', 'marginTop': '20px'}),\n",
    "\n",
    "   # Fourth row: Tables (X, y, Total Records)\n",
    "    html.Div([\n",
    "        html.Div([\n",
    "            html.H4('X Data', style={'textAlign': 'left', 'fontSize': 25, 'fontWeight': 'bold'}),\n",
    "            dash_table.DataTable(\n",
    "                data=X.to_dict('records'),\n",
    "                columns=[{\"name\": i, \"id\": i} for i in X.columns],\n",
    "                page_size=5,\n",
    "                style_table={'overflowX': 'auto'}\n",
    "            )\n",
    "        ], style={'width': '36%', 'padding': '10px', 'fontSize': 15}),\n",
    "        html.Div([\n",
    "            html.H4('y Data', style={'textAlign': 'left', 'fontSize': 25, 'fontWeight': 'bold'}),\n",
    "            dash_table.DataTable(\n",
    "                data=y.to_dict('records'),\n",
    "                columns=[{\"name\": i, \"id\": i} for i in y.columns],\n",
    "                page_size=5,\n",
    "            )\n",
    "        ], style={'width': '20%', 'padding': '30px'}),\n",
    "        html.Div([\n",
    "            html.H5('Total Records', style={'textAlign': 'left', 'fontSize': 25, 'fontWeight': 'bold'}),\n",
    "            html.Div(f\"{len(df)}\", style={\n",
    "                'textAlign': 'center',\n",
    "                'fontSize': 40,\n",
    "                'color': 'purple',\n",
    "                'padding-right': '30px',\n",
    "                'maxHeight': '300px'})\n",
    "                \n",
    "        ], style={\n",
    "            'width': '30%',\n",
    "            'padding': '20px',\n",
    "            'border': '1px solid lightgray',\n",
    "            'borderRadius': '5px',\n",
    "            'display': 'flex',\n",
    "            'flexDirection': 'column',\n",
    "            'justifyContent': 'flex-start'}),\n",
    "    ], style={'display': 'flex'}),\n",
    "    \n",
    "\n",
    "    # Fifth row: Download buttons\n",
    "    html.Div([\n",
    "        html.Div([\n",
    "            html.Button(\"Download X Data (CSV)\", id=\"btn-download-x\"),\n",
    "            dcc.Download(id=\"download-x\")\n",
    "        ], style={'width': '30%', 'padding': '30px'}),\n",
    "        html.Div([\n",
    "            html.Button(\"Download y Data (CSV)\", id=\"btn-download-y\"),\n",
    "            dcc.Download(id=\"download-y\")\n",
    "        ], style={'width': '30', 'padding': '30px'}),\n",
    "    ], style={'display': 'flex'}),\n",
    "\n",
    "    # Sixth row: Feature Importance\n",
    "    html.Div([\n",
    "        html.Div([\n",
    "            html.H4('Feature Importance', style={'fontSize': 25, 'fontWeight': 'bold'}),\n",
    "            dcc.Graph(\n",
    "                figure=px.bar(\n",
    "                    x=feature_importance.values,\n",
    "                    y=feature_importance.index,\n",
    "                    orientation='h'\n",
    "                ).update_layout(\n",
    "                    xaxis_title='Coefficient Value',\n",
    "                    yaxis_title='Features',\n",
    "                    showlegend=False\n",
    "                )\n",
    "            )\n",
    "        ], style={'width': '100%', 'padding': '0px'}),\n",
    "    ], style={'display': 'flex', 'marginTop': '20px'}),\n",
    "\n",
    "    # Sixth row: Price Dist Histogram and Feature Correlation Heatmap\n",
    "    html.Div([\n",
    "        html.Div([\n",
    "            html.H4('Feature Correlations (Heatmap)', style={'fontSize': 25, 'fontWeight': 'bold'}),\n",
    "            dcc.Graph(\n",
    "                figure=px.imshow(\n",
    "                    corr_matrix,\n",
    "                    text_auto=True,\n",
    "                    height=700,\n",
    "                    color_continuous_scale='Blues',\n",
    "                    title='Correlation Matrix'\n",
    "                ).update_layout(xaxis_title=\"Features\", yaxis_title=\"Features\")\n",
    "            )\n",
    "        ], style={'width': '100%', 'padding': '10px'}),\n",
    "    ], style={'display': 'flex', 'marginTop': '20px'}),\n",
    "\n",
    "    # Seventh row: Model Performances (R2 and RMSE)\n",
    "    html.Div([\n",
    "        html.H4('Model Performances', style={'textAlign': 'left', 'fontSize': 25, 'fontWeight': 'bold'}),\n",
    "    ], style={'width': '100%', 'padding': '10px'}),\n",
    "\n",
    "    html.Div([\n",
    "        html.Div([\n",
    "            dcc.Graph(figure=fig_pre)\n",
    "        ], style={'width': '100%', 'padding': '10px'}),\n",
    "\n",
    "        html.Div([\n",
    "            dcc.Graph(\n",
    "                figure=make_subplots(\n",
    "                    rows=1, cols=2,\n",
    "                    subplot_titles=(\"R² Scores\", \"RMSE Scores\"),\n",
    "                    shared_xaxes=False,\n",
    "                    horizontal_spacing=0.15\n",
    "                )\n",
    "                .add_trace(go.Bar(name='Linear R²',\n",
    "                        x=[\"Top 3\", \"Top 4\", \"Top 5\"],\n",
    "                        y=[0.4681, 0.5887, 0.7403],\n",
    "                        marker_color='cornflowerblue'), row=1, col=1)\n",
    "                .add_trace(go.Bar(name='Random Forest R²',\n",
    "                        x=[\"Top 3\", \"Top 4\", \"Top 5\"],\n",
    "                        y=[0.4856, 0.5468, 0.5468],\n",
    "                        marker_color='royalblue'), row=1, col=1)\n",
    "                .add_trace(go.Bar(name='Linear RMSE',\n",
    "                        x=[\"Top 3\", \"Top 4\", \"Top 5\"],\n",
    "                        y=[0.5209, 0.4581, 0.3640],\n",
    "                        marker_color='lightcoral'), row=1, col=2)\n",
    "                .add_trace(go.Bar(name='Random Forest RMSE',\n",
    "                        x=[\"Top 3\", \"Top 4\", \"Top 5\"],\n",
    "                        y=[0.5123, 0.4809, 0.4809],\n",
    "                        marker_color='indianred'), row=1, col=2)\n",
    "                .update_layout(\n",
    "                    barmode='group',\n",
    "                    title_text=\"R² and RMSE Scores by Model (Post Backtesting)\",\n",
    "                    height=450,\n",
    "                    showlegend=True,\n",
    "                    legend=dict(\n",
    "                        orientation=\"h\",\n",
    "                        yanchor=\"bottom\",\n",
    "                        y=-0.3,\n",
    "                        xanchor=\"center\",\n",
    "                        x=0.5\n",
    "                    ),\n",
    "                    margin=dict(t=60)\n",
    "                )\n",
    "                .update_xaxes(title_text=\"Top N Features\", row=1, col=1)\n",
    "                .update_xaxes(title_text=\"Top N Features\", row=1, col=2)\n",
    "                .update_yaxes(title_text=\"R² Score\", row=1, col=1)\n",
    "                .update_yaxes(title_text=\"RMSE\", row=1, col=2)\n",
    "            )\n",
    "        ], style={'width': '100%', 'padding': '10px'}),\n",
    "    ], style={'display': 'flex', 'marginTop': '30px'}),\n",
    "], style={'backgroundColor': '#fffdf6ff', 'padding': '20px', 'marginTop': '30px'})\n",
    "\n",
    "from dash.dependencies import Input, Output\n",
    "import base64\n",
    "import io\n",
    "\n",
    "@app.callback(\n",
    "    Output(\"download-x\", \"data\"),\n",
    "    Input(\"btn-download-x\", \"n_clicks\"),\n",
    "    prevent_initial_call=True\n",
    ")\n",
    "def download_x(n_clicks):\n",
    "    if n_clicks is None:\n",
    "        return None\n",
    "    return dcc.send_data_frame(X.to_csv, \"X.csv\", index=False)\n",
    "\n",
    "@app.callback(\n",
    "    Output(\"download-y\", \"data\"),\n",
    "    Input(\"btn-download-y\", \"n_clicks\"),\n",
    "    prevent_initial_call=True\n",
    ")\n",
    "def download_y(n_clicks):\n",
    "    if n_clicks is None:\n",
    "        return None\n",
    "    return dcc.send_data_frame(y.to_csv, \"y.csv\", index=False)\n",
    "\n",
    "# Run the app\n",
    "if __name__ == '__main__':\n",
    "    app.run(debug=True)"
   ]
  },
  {
   "cell_type": "code",
   "execution_count": null,
   "id": "f1e6984b",
   "metadata": {},
   "outputs": [],
   "source": []
  }
 ],
 "metadata": {
  "kernelspec": {
   "display_name": "base",
   "language": "python",
   "name": "python3"
  },
  "language_info": {
   "codemirror_mode": {
    "name": "ipython",
    "version": 3
   },
   "file_extension": ".py",
   "mimetype": "text/x-python",
   "name": "python",
   "nbconvert_exporter": "python",
   "pygments_lexer": "ipython3",
   "version": "3.12.3"
  }
 },
 "nbformat": 4,
 "nbformat_minor": 5
}
