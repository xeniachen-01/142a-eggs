{
 "cells": [
  {
   "cell_type": "code",
   "execution_count": 1,
   "id": "6fa2438c",
   "metadata": {},
   "outputs": [],
   "source": [
    "import pandas as pd\n",
    "import numpy as np\n",
    "from sklearn.model_selection import train_test_split\n",
    "from sklearn.linear_model import LinearRegression\n",
    "import seaborn as sns\n",
    "from sklearn.metrics import mean_squared_error, r2_score\n",
    "from math import sqrt"
   ]
  },
  {
   "cell_type": "code",
   "execution_count": 15,
   "id": "ad1f6156",
   "metadata": {},
   "outputs": [],
   "source": [
    "X = pd.read_csv(r\"X.csv\")\n",
    "egg = pd.read_csv(r\"y.csv\")"
   ]
  },
  {
   "cell_type": "code",
   "execution_count": 16,
   "id": "a8797e4f",
   "metadata": {},
   "outputs": [],
   "source": [
    "# Join X and y on their indices\n",
    "X['egg_price'] = egg\n",
    "\n",
    "# Add a new column 'Y' which is the 'egg_price' column shifted down by 1 entry (lagging)\n",
    "X['Y'] = X['egg_price'].shift(-1)"
   ]
  },
  {
   "cell_type": "code",
   "execution_count": 17,
   "id": "43ef6aee",
   "metadata": {},
   "outputs": [],
   "source": [
    "X_train, X_test, y_train, y_test = train_test_split(X.drop(columns=['Y', 'Year-Month']), X['Y'], test_size=0.25, shuffle = False)"
   ]
  },
  {
   "cell_type": "code",
   "execution_count": 5,
   "id": "c39775d3",
   "metadata": {},
   "outputs": [],
   "source": [
    "# Import the library that contains all the functions/modules related to the regression model\n",
    "import statsmodels.api as sm\n",
    "from statsmodels.stats.outliers_influence import variance_inflation_factor"
   ]
  },
  {
   "cell_type": "code",
   "execution_count": 18,
   "id": "e9e6a313",
   "metadata": {},
   "outputs": [
    {
     "data": {
      "text/html": [
       "<div>\n",
       "<style scoped>\n",
       "    .dataframe tbody tr th:only-of-type {\n",
       "        vertical-align: middle;\n",
       "    }\n",
       "\n",
       "    .dataframe tbody tr th {\n",
       "        vertical-align: top;\n",
       "    }\n",
       "\n",
       "    .dataframe thead th {\n",
       "        text-align: right;\n",
       "    }\n",
       "</style>\n",
       "<table border=\"1\" class=\"dataframe\">\n",
       "  <thead>\n",
       "    <tr style=\"text-align: right;\">\n",
       "      <th></th>\n",
       "      <th>const</th>\n",
       "      <th>Outbreaks</th>\n",
       "      <th>bacon price</th>\n",
       "      <th>potato price</th>\n",
       "      <th>soybean price</th>\n",
       "      <th>wheat price</th>\n",
       "      <th>corn price</th>\n",
       "      <th>Christmas</th>\n",
       "      <th>Thanksgiving</th>\n",
       "      <th>Passover/Easter</th>\n",
       "      <th>gas price</th>\n",
       "      <th>egg_price</th>\n",
       "    </tr>\n",
       "  </thead>\n",
       "  <tbody>\n",
       "    <tr>\n",
       "      <th>0</th>\n",
       "      <td>1.0</td>\n",
       "      <td>8</td>\n",
       "      <td>7.097</td>\n",
       "      <td>0.802</td>\n",
       "      <td>15.885375</td>\n",
       "      <td>390.50</td>\n",
       "      <td>6.500600</td>\n",
       "      <td>False</td>\n",
       "      <td>False</td>\n",
       "      <td>False</td>\n",
       "      <td>3.611</td>\n",
       "      <td>2.005</td>\n",
       "    </tr>\n",
       "    <tr>\n",
       "      <th>1</th>\n",
       "      <td>1.0</td>\n",
       "      <td>56</td>\n",
       "      <td>7.203</td>\n",
       "      <td>0.825</td>\n",
       "      <td>16.733152</td>\n",
       "      <td>486.30</td>\n",
       "      <td>7.465652</td>\n",
       "      <td>False</td>\n",
       "      <td>False</td>\n",
       "      <td>False</td>\n",
       "      <td>4.322</td>\n",
       "      <td>2.046</td>\n",
       "    </tr>\n",
       "    <tr>\n",
       "      <th>2</th>\n",
       "      <td>1.0</td>\n",
       "      <td>68</td>\n",
       "      <td>7.422</td>\n",
       "      <td>0.849</td>\n",
       "      <td>16.798190</td>\n",
       "      <td>495.28</td>\n",
       "      <td>7.859310</td>\n",
       "      <td>False</td>\n",
       "      <td>False</td>\n",
       "      <td>True</td>\n",
       "      <td>4.213</td>\n",
       "      <td>2.520</td>\n",
       "    </tr>\n",
       "    <tr>\n",
       "      <th>3</th>\n",
       "      <td>1.0</td>\n",
       "      <td>56</td>\n",
       "      <td>7.364</td>\n",
       "      <td>0.875</td>\n",
       "      <td>16.583690</td>\n",
       "      <td>522.29</td>\n",
       "      <td>7.838690</td>\n",
       "      <td>False</td>\n",
       "      <td>False</td>\n",
       "      <td>False</td>\n",
       "      <td>4.545</td>\n",
       "      <td>2.863</td>\n",
       "    </tr>\n",
       "    <tr>\n",
       "      <th>4</th>\n",
       "      <td>1.0</td>\n",
       "      <td>14</td>\n",
       "      <td>7.403</td>\n",
       "      <td>0.891</td>\n",
       "      <td>16.876064</td>\n",
       "      <td>459.59</td>\n",
       "      <td>7.597964</td>\n",
       "      <td>False</td>\n",
       "      <td>False</td>\n",
       "      <td>False</td>\n",
       "      <td>5.032</td>\n",
       "      <td>2.707</td>\n",
       "    </tr>\n",
       "  </tbody>\n",
       "</table>\n",
       "</div>"
      ],
      "text/plain": [
       "   const  Outbreaks  bacon price  potato price  soybean price  wheat price  \\\n",
       "0    1.0          8        7.097         0.802      15.885375       390.50   \n",
       "1    1.0         56        7.203         0.825      16.733152       486.30   \n",
       "2    1.0         68        7.422         0.849      16.798190       495.28   \n",
       "3    1.0         56        7.364         0.875      16.583690       522.29   \n",
       "4    1.0         14        7.403         0.891      16.876064       459.59   \n",
       "\n",
       "   corn price  Christmas  Thanksgiving  Passover/Easter  gas price  egg_price  \n",
       "0    6.500600      False         False            False      3.611      2.005  \n",
       "1    7.465652      False         False            False      4.322      2.046  \n",
       "2    7.859310      False         False             True      4.213      2.520  \n",
       "3    7.838690      False         False            False      4.545      2.863  \n",
       "4    7.597964      False         False            False      5.032      2.707  "
      ]
     },
     "execution_count": 18,
     "metadata": {},
     "output_type": "execute_result"
    }
   ],
   "source": [
    "# We must add an intercept as the standard model doesn't automatically fit one\n",
    "X_train = sm.add_constant(X_train)\n",
    "X_test = sm.add_constant(X_test)\n",
    "X_train.head()"
   ]
  },
  {
   "cell_type": "code",
   "execution_count": 19,
   "id": "3ede29cb",
   "metadata": {},
   "outputs": [
    {
     "data": {
      "text/html": [
       "<div>\n",
       "<style scoped>\n",
       "    .dataframe tbody tr th:only-of-type {\n",
       "        vertical-align: middle;\n",
       "    }\n",
       "\n",
       "    .dataframe tbody tr th {\n",
       "        vertical-align: top;\n",
       "    }\n",
       "\n",
       "    .dataframe thead th {\n",
       "        text-align: right;\n",
       "    }\n",
       "</style>\n",
       "<table border=\"1\" class=\"dataframe\">\n",
       "  <thead>\n",
       "    <tr style=\"text-align: right;\">\n",
       "      <th></th>\n",
       "      <th>const</th>\n",
       "      <th>Outbreaks</th>\n",
       "      <th>bacon price</th>\n",
       "      <th>potato price</th>\n",
       "      <th>soybean price</th>\n",
       "      <th>wheat price</th>\n",
       "      <th>corn price</th>\n",
       "      <th>Christmas</th>\n",
       "      <th>Thanksgiving</th>\n",
       "      <th>Passover/Easter</th>\n",
       "      <th>gas price</th>\n",
       "      <th>egg_price</th>\n",
       "    </tr>\n",
       "  </thead>\n",
       "  <tbody>\n",
       "    <tr>\n",
       "      <th>24</th>\n",
       "      <td>1.0</td>\n",
       "      <td>8</td>\n",
       "      <td>6.637</td>\n",
       "      <td>0.971</td>\n",
       "      <td>11.648636</td>\n",
       "      <td>272.30</td>\n",
       "      <td>4.344432</td>\n",
       "      <td>False</td>\n",
       "      <td>False</td>\n",
       "      <td>True</td>\n",
       "      <td>3.733</td>\n",
       "      <td>2.864</td>\n",
       "    </tr>\n",
       "    <tr>\n",
       "      <th>25</th>\n",
       "      <td>1.0</td>\n",
       "      <td>10</td>\n",
       "      <td>6.818</td>\n",
       "      <td>0.964</td>\n",
       "      <td>12.184348</td>\n",
       "      <td>289.42</td>\n",
       "      <td>4.555543</td>\n",
       "      <td>False</td>\n",
       "      <td>False</td>\n",
       "      <td>False</td>\n",
       "      <td>3.725</td>\n",
       "      <td>2.699</td>\n",
       "    </tr>\n",
       "    <tr>\n",
       "      <th>26</th>\n",
       "      <td>1.0</td>\n",
       "      <td>8</td>\n",
       "      <td>6.827</td>\n",
       "      <td>0.993</td>\n",
       "      <td>11.724500</td>\n",
       "      <td>265.55</td>\n",
       "      <td>4.395250</td>\n",
       "      <td>False</td>\n",
       "      <td>False</td>\n",
       "      <td>False</td>\n",
       "      <td>3.576</td>\n",
       "      <td>2.715</td>\n",
       "    </tr>\n",
       "    <tr>\n",
       "      <th>27</th>\n",
       "      <td>1.0</td>\n",
       "      <td>3</td>\n",
       "      <td>6.883</td>\n",
       "      <td>1.017</td>\n",
       "      <td>11.180000</td>\n",
       "      <td>260.26</td>\n",
       "      <td>3.990978</td>\n",
       "      <td>False</td>\n",
       "      <td>False</td>\n",
       "      <td>False</td>\n",
       "      <td>3.600</td>\n",
       "      <td>3.080</td>\n",
       "    </tr>\n",
       "    <tr>\n",
       "      <th>28</th>\n",
       "      <td>1.0</td>\n",
       "      <td>4</td>\n",
       "      <td>6.955</td>\n",
       "      <td>1.009</td>\n",
       "      <td>10.128571</td>\n",
       "      <td>269.69</td>\n",
       "      <td>4.005595</td>\n",
       "      <td>False</td>\n",
       "      <td>False</td>\n",
       "      <td>False</td>\n",
       "      <td>3.338</td>\n",
       "      <td>3.821</td>\n",
       "    </tr>\n",
       "    <tr>\n",
       "      <th>29</th>\n",
       "      <td>1.0</td>\n",
       "      <td>20</td>\n",
       "      <td>6.869</td>\n",
       "      <td>0.998</td>\n",
       "      <td>10.032174</td>\n",
       "      <td>272.85</td>\n",
       "      <td>4.160978</td>\n",
       "      <td>False</td>\n",
       "      <td>False</td>\n",
       "      <td>False</td>\n",
       "      <td>3.261</td>\n",
       "      <td>3.370</td>\n",
       "    </tr>\n",
       "    <tr>\n",
       "      <th>30</th>\n",
       "      <td>1.0</td>\n",
       "      <td>93</td>\n",
       "      <td>6.843</td>\n",
       "      <td>0.956</td>\n",
       "      <td>9.953810</td>\n",
       "      <td>253.75</td>\n",
       "      <td>4.238333</td>\n",
       "      <td>False</td>\n",
       "      <td>True</td>\n",
       "      <td>False</td>\n",
       "      <td>3.175</td>\n",
       "      <td>3.649</td>\n",
       "    </tr>\n",
       "    <tr>\n",
       "      <th>31</th>\n",
       "      <td>1.0</td>\n",
       "      <td>294</td>\n",
       "      <td>6.915</td>\n",
       "      <td>0.949</td>\n",
       "      <td>9.833182</td>\n",
       "      <td>252.17</td>\n",
       "      <td>4.405909</td>\n",
       "      <td>True</td>\n",
       "      <td>False</td>\n",
       "      <td>False</td>\n",
       "      <td>3.139</td>\n",
       "      <td>4.146</td>\n",
       "    </tr>\n",
       "    <tr>\n",
       "      <th>32</th>\n",
       "      <td>1.0</td>\n",
       "      <td>36</td>\n",
       "      <td>7.044</td>\n",
       "      <td>0.973</td>\n",
       "      <td>10.284783</td>\n",
       "      <td>254.09</td>\n",
       "      <td>4.749891</td>\n",
       "      <td>False</td>\n",
       "      <td>False</td>\n",
       "      <td>False</td>\n",
       "      <td>3.196</td>\n",
       "      <td>4.953</td>\n",
       "    </tr>\n",
       "  </tbody>\n",
       "</table>\n",
       "</div>"
      ],
      "text/plain": [
       "    const  Outbreaks  bacon price  potato price  soybean price  wheat price  \\\n",
       "24    1.0          8        6.637         0.971      11.648636       272.30   \n",
       "25    1.0         10        6.818         0.964      12.184348       289.42   \n",
       "26    1.0          8        6.827         0.993      11.724500       265.55   \n",
       "27    1.0          3        6.883         1.017      11.180000       260.26   \n",
       "28    1.0          4        6.955         1.009      10.128571       269.69   \n",
       "29    1.0         20        6.869         0.998      10.032174       272.85   \n",
       "30    1.0         93        6.843         0.956       9.953810       253.75   \n",
       "31    1.0        294        6.915         0.949       9.833182       252.17   \n",
       "32    1.0         36        7.044         0.973      10.284783       254.09   \n",
       "\n",
       "    corn price  Christmas  Thanksgiving  Passover/Easter  gas price  egg_price  \n",
       "24    4.344432      False         False             True      3.733      2.864  \n",
       "25    4.555543      False         False            False      3.725      2.699  \n",
       "26    4.395250      False         False            False      3.576      2.715  \n",
       "27    3.990978      False         False            False      3.600      3.080  \n",
       "28    4.005595      False         False            False      3.338      3.821  \n",
       "29    4.160978      False         False            False      3.261      3.370  \n",
       "30    4.238333      False          True            False      3.175      3.649  \n",
       "31    4.405909       True         False            False      3.139      4.146  \n",
       "32    4.749891      False         False            False      3.196      4.953  "
      ]
     },
     "execution_count": 19,
     "metadata": {},
     "output_type": "execute_result"
    }
   ],
   "source": [
    "X_test"
   ]
  },
  {
   "cell_type": "code",
   "execution_count": 20,
   "id": "ed91f33d",
   "metadata": {},
   "outputs": [],
   "source": [
    "lr = LinearRegression()\n",
    "lr.fit(X_train, y_train)\n",
    "pred = lr.predict(X_test)"
   ]
  },
  {
   "cell_type": "code",
   "execution_count": 21,
   "id": "ec0ff7c6",
   "metadata": {},
   "outputs": [
    {
     "data": {
      "text/plain": [
       "24    2.699\n",
       "25    2.715\n",
       "26    3.080\n",
       "27    3.821\n",
       "28    3.370\n",
       "29    3.649\n",
       "30    4.146\n",
       "31    4.953\n",
       "32      NaN\n",
       "Name: Y, dtype: float64"
      ]
     },
     "execution_count": 21,
     "metadata": {},
     "output_type": "execute_result"
    }
   ],
   "source": [
    "y_test"
   ]
  },
  {
   "cell_type": "code",
   "execution_count": 22,
   "id": "9728c1d6",
   "metadata": {},
   "outputs": [
    {
     "name": "stdout",
     "output_type": "stream",
     "text": [
      "Root Mean Squared Error: 0.3363658364675229\n",
      "R-squared: 0.7782321765827869\n"
     ]
    },
    {
     "data": {
      "image/png": "[encoded data removed]",
      "text/plain": [
       "<Figure size 1000x600 with 1 Axes>"
      ]
     },
     "metadata": {},
     "output_type": "display_data"
    }
   ],
   "source": [
    "# Calculate the mean squared error and R-squared value  \n",
    "mse = mean_squared_error(y_test.iloc[:-1], pred[:-1])\n",
    "r2 = r2_score(y_test.iloc[:-1], pred[:-1])\n",
    "print(f'Root Mean Squared Error: {sqrt(mse)}')\n",
    "print(f'R-squared: {r2}')\n",
    "\n",
    "# Calculate the residuals\n",
    "residuals = y_test.iloc[:-1] - pred[:-1]\n",
    "\n",
    "# Create a DataFrame for the residuals  \n",
    "residuals_df = pd.DataFrame({'Actual': y_test.iloc[:-1], 'Predicted': pred[:-1], 'Residuals': residuals})\n",
    "\n",
    "\n",
    "# Plot the residuals\n",
    "import matplotlib.pyplot as plt\n",
    "plt.figure(figsize=(10, 6))\n",
    "plt.scatter(pred[:-1], residuals, alpha=0.5)\n",
    "plt.axhline(0, color='red', linestyle='--')\n",
    "plt.title('Residuals vs Predicted Values')\n",
    "plt.xlabel('Predicted Values')\n",
    "plt.ylabel('Residuals')\n",
    "plt.show()"
   ]
  },
  {
   "cell_type": "code",
   "execution_count": 23,
   "id": "09155e06",
   "metadata": {},
   "outputs": [
    {
     "name": "stdout",
     "output_type": "stream",
     "text": [
      "Cross-Validation RMSE Scores: [0.2717973  0.42556831 0.53742134 0.40650406 0.74702722]\n",
      "Average Cross-Validation RMSE: 0.4776636454477103\n"
     ]
    }
   ],
   "source": [
    "from sklearn.model_selection import cross_val_score\n",
    "\n",
    "# Perform cross-validation\n",
    "cv_scores = cross_val_score(lr, X_train, y_train, cv=5, scoring='neg_mean_squared_error')\n",
    "\n",
    "# # Convert negative MSE to positive for interpretation\n",
    "# cv_mse_scores = -cv_scores\n",
    "# print(f'Cross-Validation MSE Scores: {cv_mse_scores}')\n",
    "# print(f'Average Cross-Validation MSE: {cv_mse_scores.mean()}')\n",
    "\n",
    "# Convert to RMSE to standardize with other models\n",
    "cv_rmse_scores = np.sqrt(cv_mse_scores)\n",
    "print(f'Cross-Validation RMSE Scores: {cv_rmse_scores}')\n",
    "print(f'Average Cross-Validation RMSE: {cv_rmse_scores.mean()}')"
   ]
  },
  {
   "cell_type": "code",
   "execution_count": 24,
   "id": "bca4243d",
   "metadata": {},
   "outputs": [
    {
     "data": {
      "image/png": "[encoded data removed]",
      "text/plain": [
       "<Figure size 1000x600 with 1 Axes>"
      ]
     },
     "metadata": {},
     "output_type": "display_data"
    }
   ],
   "source": [
    "# Extract feature importance from the linear regression model\n",
    "feature_importance = pd.Series(lr.coef_, index=X_train.columns)\n",
    "\n",
    "# Plot the feature importance\n",
    "plt.figure(figsize=(10, 6))\n",
    "feature_importance.sort_values().plot(kind='barh', color='skyblue')\n",
    "plt.title('Feature Importance')\n",
    "plt.xlabel('Coefficient Value')\n",
    "plt.ylabel('Feature')\n",
    "plt.show()"
   ]
  },
  {
   "cell_type": "code",
   "execution_count": 51,
   "id": "238ad800",
   "metadata": {},
   "outputs": [
    {
     "data": {
      "image/png": "[encoded data removed]",
      "text/plain": [
       "<Figure size 1200x800 with 2 Axes>"
      ]
     },
     "metadata": {},
     "output_type": "display_data"
    }
   ],
   "source": [
    "# Compute the correlation matrix\n",
    "correlation_matrix = X_train.drop(columns=['const']).corr()\n",
    "\n",
    "# Plot the heatmap\n",
    "plt.figure(figsize=(12, 8))\n",
    "sns.heatmap(correlation_matrix, annot=True, fmt=\".2f\", cmap=\"coolwarm\", cbar=True)\n",
    "plt.title(\"Feature Collinearity Heatmap\")\n",
    "plt.show()"
   ]
  },
  {
   "cell_type": "code",
   "execution_count": 52,
   "id": "6f4028ef",
   "metadata": {
    "vscode": {
     "languageId": "ruby"
    }
   },
   "outputs": [
    {
     "name": "stdout",
     "output_type": "stream",
     "text": [
      "Random Forest Root Mean Squared Error: 0.20337765461250057\n",
      "Random Forest R-squared: 0.6013626293919854\n"
     ]
    }
   ],
   "source": [
    "from sklearn.ensemble import RandomForestRegressor\n",
    "\n",
    "# Initialize the Random Forest Regressor\n",
    "rf = RandomForestRegressor(n_estimators=100, random_state=42)\n",
    "\n",
    "# Fit the model on the training data\n",
    "rf.fit(X_train.drop(columns=['const']), y_train)\n",
    "\n",
    "# Predict the y values for the test set\n",
    "rf_pred = rf.predict(X_test.drop(columns=['const']))\n",
    "\n",
    "# Evaluate the model\n",
    "rf_rmse = sqrt(mean_squared_error(y_test.iloc[:-1], rf_pred[:-1]))\n",
    "rf_r2 = r2_score(y_test.iloc[:-1], rf_pred[:-1])\n",
    "\n",
    "print(f'Random Forest Root Mean Squared Error: {rf_mse}')\n",
    "print(f'Random Forest R-squared: {rf_r2}')"
   ]
  },
  {
   "cell_type": "code",
   "execution_count": 25,
   "id": "26fd12f5",
   "metadata": {},
   "outputs": [
    {
     "name": "stdout",
     "output_type": "stream",
     "text": [
      "Cross-Validation RMSE Scores: [0.2717973  0.42556831 0.53742134 0.40650406 0.74702722]\n",
      "Average Cross-Validation RMSE: 0.4776636454477103\n"
     ]
    }
   ],
   "source": [
    "from sklearn.model_selection import cross_val_score\n",
    "\n",
    "# Perform cross-validation\n",
    "cv_scores = cross_val_score(lr, X_train, y_train, cv=5, scoring='neg_mean_squared_error')\n",
    "\n",
    "# # Convert negative MSE to positive for interpretation\n",
    "# cv_mse_scores = -cv_scores\n",
    "# print(f'Cross-Validation MSE Scores: {cv_mse_scores}')\n",
    "# print(f'Average Cross-Validation MSE: {cv_mse_scores.mean()}')\n",
    "\n",
    "# Convert to rmse to standardize with other models\n",
    "cv_rmse_scores = np.sqrt(cv_mse_scores)\n",
    "print(f'Cross-Validation RMSE Scores: {cv_rmse_scores}')\n",
    "print(f'Average Cross-Validation RMSE: {cv_rmse_scores.mean()}')"
   ]
  },
  {
   "cell_type": "code",
   "execution_count": 26,
   "id": "b5c1f6cf",
   "metadata": {},
   "outputs": [
    {
     "data": {
      "image/png": "[encoded data removed]",
      "text/plain": [
       "<Figure size 1000x600 with 1 Axes>"
      ]
     },
     "metadata": {},
     "output_type": "display_data"
    }
   ],
   "source": [
    "# Plot the feature importance\n",
    "plt.figure(figsize=(10, 6))\n",
    "feature_importance.sort_values().plot(kind='barh', color='skyblue')\n",
    "plt.title('Feature Importance')\n",
    "plt.xlabel('Coefficient Value')\n",
    "plt.ylabel('Feature')\n",
    "plt.show()"
   ]
  },
  {
   "cell_type": "code",
   "execution_count": 27,
   "id": "c8aef749",
   "metadata": {},
   "outputs": [
    {
     "name": "stdout",
     "output_type": "stream",
     "text": [
      "Root Mean Squared Error (Top 3 Features): 0.5209122025193783\n",
      "R-squared (Top 3 Features): 0.4681320302156279\n"
     ]
    }
   ],
   "source": [
    "# Select the top 3 features based on feature importance\n",
    "top_3_features = feature_importance.abs().sort_values(ascending=False).iloc[1:4].index  # Exclude 'const'\n",
    "\n",
    "# Prepare the training and testing data with the top 3 features\n",
    "X_train_top3 = X_train[top_3_features]\n",
    "X_test_top3 = X_test[top_3_features]\n",
    "\n",
    "# Train the linear regression model\n",
    "lr_top3 = LinearRegression()\n",
    "lr_top3.fit(X_train_top3, y_train)\n",
    "\n",
    "# Predict on the test set\n",
    "pred_top3 = lr_top3.predict(X_test_top3)\n",
    "\n",
    "# Evaluate the model\n",
    "mse_top3 = mean_squared_error(y_test.iloc[:-1], pred_top3[:-1])\n",
    "r2_top3 = r2_score(y_test.iloc[:-1], pred_top3[:-1])\n",
    "\n",
    "print(f'Root Mean Squared Error (Top 3 Features): {sqrt(mse_top3)}')\n",
    "print(f'R-squared (Top 3 Features): {r2_top3}')"
   ]
  },
  {
   "cell_type": "markdown",
   "id": "52811f91",
   "metadata": {},
   "source": [
    "## LR & RF Model with Top 3 Features"
   ]
  },
  {
   "cell_type": "code",
   "execution_count": 28,
   "id": "1f11b2d3",
   "metadata": {},
   "outputs": [
    {
     "name": "stdout",
     "output_type": "stream",
     "text": [
      "Linear Regression Model with Top 3 Features\n",
      "Root Mean Squared Error (Top 3 Features): 0.5209122025193783\n",
      "R-squared (Top 3 Features): 0.4681320302156279\n"
     ]
    }
   ],
   "source": [
    "# Select the top 3 features based on feature importance\n",
    "top_3_features = feature_importance.abs().sort_values(ascending=False).iloc[1:4].index  # Exclude 'const'\n",
    "\n",
    "# Prepare the training and testing data with the top 3 features\n",
    "X_train_top3 = X_train[top_3_features]\n",
    "X_test_top3 = X_test[top_3_features]\n",
    "\n",
    "# Train the linear regression model\n",
    "lr_top3 = LinearRegression()\n",
    "lr_top3.fit(X_train_top3, y_train)\n",
    "\n",
    "# Predict on the test set\n",
    "pred_top3 = lr_top3.predict(X_test_top3)\n",
    "\n",
    "# Evaluate the model\n",
    "mse_top3 = mean_squared_error(y_test.iloc[:-1], pred_top3[:-1])\n",
    "r2_top3 = r2_score(y_test.iloc[:-1], pred_top3[:-1])\n",
    "\n",
    "print('Linear Regression Model with Top 3 Features')\n",
    "print(f'Root Mean Squared Error (Top 3 Features): {sqrt(mse_top3)}')\n",
    "print(f'R-squared (Top 3 Features): {r2_top3}')"
   ]
  },
  {
   "cell_type": "code",
   "execution_count": 29,
   "id": "1b8ca750",
   "metadata": {},
   "outputs": [
    {
     "name": "stdout",
     "output_type": "stream",
     "text": [
      "Top 3 Features used in the model: ['egg_price', 'bacon price', 'Thanksgiving']\n"
     ]
    }
   ],
   "source": [
    "print(f'Top 3 Features used in the model: {list(top_3_features)}')"
   ]
  },
  {
   "cell_type": "code",
   "execution_count": 31,
   "id": "dc155312",
   "metadata": {},
   "outputs": [
    {
     "name": "stdout",
     "output_type": "stream",
     "text": [
      "Random Forest R-squared (Top 3 Features): 0.4856487022908935\n",
      "Random Forest RMSE (Top 3 Features): 0.5122624620494856\n",
      "Top 3 Features used in the model: ['egg_price', 'bacon price', 'Thanksgiving']\n"
     ]
    }
   ],
   "source": [
    "# Train the Random Forest model with the top 3 features\n",
    "from sklearn.ensemble import RandomForestRegressor\n",
    "\n",
    "rf_top3 = RandomForestRegressor(n_estimators=100, random_state=42)\n",
    "rf_top3.fit(X_train_top3, y_train)\n",
    "\n",
    "# Predict on the test set\n",
    "rf_pred_top3 = rf_top3.predict(X_test_top3)\n",
    "\n",
    "# Evaluate the model\n",
    "rf_r2_top3 = r2_score(y_test.iloc[:-1], rf_pred_top3[:-1])\n",
    "rf_rmse_top3 = sqrt(mean_squared_error(y_test.iloc[:-1], rf_pred_top3[:-1]))\n",
    "\n",
    "# Display the results\n",
    "print(f'Random Forest R-squared (Top 3 Features): {rf_r2_top3}')\n",
    "print(f'Random Forest RMSE (Top 3 Features): {rf_rmse_top3}')\n",
    "print(f'Top 3 Features used in the model: {list(top_3_features)}')"
   ]
  },
  {
   "cell_type": "code",
   "execution_count": 32,
   "id": "90fbbc36",
   "metadata": {},
   "outputs": [
    {
     "name": "stdout",
     "output_type": "stream",
     "text": [
      "Linear Regression Model with Top 4 Features\n",
      "Root Mean Squared Error (Top 4 Features): 0.4581062402492603\n",
      "R-squared (Top 4 Features): 0.5886540835146021\n"
     ]
    }
   ],
   "source": [
    "# Select the top 4 features based on feature importance\n",
    "top_4_features = feature_importance.abs().sort_values(ascending=False).iloc[1:5].index  # Exclude 'const'\n",
    "\n",
    "# Prepare the training and testing data with the top 3 features\n",
    "X_train_top4 = X_train[top_4_features]\n",
    "X_test_top4 = X_test[top_4_features]\n",
    "\n",
    "# Train the linear regression model\n",
    "lr_top4 = LinearRegression()\n",
    "lr_top4.fit(X_train_top4, y_train)\n",
    "\n",
    "# Predict on the test set\n",
    "pred_top4 = lr_top4.predict(X_test_top4)\n",
    "\n",
    "# Evaluate the model\n",
    "mse_top4 = mean_squared_error(y_test.iloc[:-1], pred_top4[:-1])\n",
    "r2_top4 = r2_score(y_test.iloc[:-1], pred_top4[:-1])\n",
    "\n",
    "print('Linear Regression Model with Top 4 Features')\n",
    "print(f'Root Mean Squared Error (Top 4 Features): {sqrt(mse_top4)}')\n",
    "print(f'R-squared (Top 4 Features): {r2_top4}')"
   ]
  },
  {
   "cell_type": "code",
   "execution_count": 33,
   "id": "82c1756a",
   "metadata": {},
   "outputs": [
    {
     "name": "stdout",
     "output_type": "stream",
     "text": [
      "Top 4 Features used in the model: ['egg_price', 'bacon price', 'Thanksgiving', 'Christmas']\n"
     ]
    }
   ],
   "source": [
    "print(f'Top 4 Features used in the model: {list(top_4_features)}')"
   ]
  },
  {
   "cell_type": "code",
   "execution_count": 34,
   "id": "722e2824",
   "metadata": {},
   "outputs": [
    {
     "name": "stdout",
     "output_type": "stream",
     "text": [
      "Random Forest R-squared (Top 4 Features): 0.5473226387330119\n",
      "Random Forest RMSE (Top 4 Features): 0.4805703809407119\n",
      "Top 4 Features used in the model: ['egg_price', 'bacon price', 'Thanksgiving', 'Christmas']\n"
     ]
    }
   ],
   "source": [
    "# Train the Random Forest model with the top 4 features\n",
    "rf_top4 = RandomForestRegressor(n_estimators=100, random_state=42)\n",
    "rf_top4.fit(X_train_top4, y_train)\n",
    "\n",
    "# Predict on the test set\n",
    "rf_pred_top4 = rf_top4.predict(X_test_top4)\n",
    "\n",
    "# Evaluate the model\n",
    "rf_r2_top4 = r2_score(y_test.iloc[:-1], rf_pred_top4[:-1])\n",
    "rf_rmse_top4 = sqrt(mean_squared_error(y_test.iloc[:-1], rf_pred_top4[:-1]))\n",
    "\n",
    "# Display the results\n",
    "print(f'Random Forest R-squared (Top 4 Features): {rf_r2_top4}')\n",
    "print(f'Random Forest RMSE (Top 4 Features): {rf_rmse_top4}')\n",
    "print(f'Top 4 Features used in the model: {list(top_4_features)}')"
   ]
  },
  {
   "cell_type": "code",
   "execution_count": 35,
   "id": "baa8dafa",
   "metadata": {},
   "outputs": [
    {
     "name": "stdout",
     "output_type": "stream",
     "text": [
      "Linear Regression Model with Top 5 Features\n",
      "Root Mean Squared Error (Top 5 Features): 0.3639863538261782\n",
      "R-squared (Top 5 Features): 0.7403161276392499\n"
     ]
    }
   ],
   "source": [
    "# Select the top 5 features based on feature importance\n",
    "top_5_features = feature_importance.abs().sort_values(ascending=False).iloc[1:6].index  # Exclude 'const'\n",
    "\n",
    "# Prepare the training and testing data with the top 5 features\n",
    "X_train_top5 = X_train[top_5_features]\n",
    "X_test_top5 = X_test[top_5_features]\n",
    "\n",
    "# Train the linear regression model\n",
    "lr_top5 = LinearRegression()\n",
    "lr_top5.fit(X_train_top5, y_train)\n",
    "\n",
    "# Predict on the test set\n",
    "pred_top5 = lr_top5.predict(X_test_top5)\n",
    "\n",
    "# Evaluate the model\n",
    "mse_top5 = mean_squared_error(y_test.iloc[:-1], pred_top5[:-1])\n",
    "r2_top5 = r2_score(y_test.iloc[:-1], pred_top5[:-1])\n",
    "\n",
    "print('Linear Regression Model with Top 5 Features')\n",
    "print(f'Root Mean Squared Error (Top 5 Features): {sqrt(mse_top5)}')\n",
    "print(f'R-squared (Top 5 Features): {r2_top5}')"
   ]
  },
  {
   "cell_type": "code",
   "execution_count": 36,
   "id": "44ab91eb",
   "metadata": {},
   "outputs": [
    {
     "name": "stdout",
     "output_type": "stream",
     "text": [
      "Top 5 Features used in the model: ['egg_price', 'bacon price', 'Thanksgiving', 'Christmas', 'soybean price']\n"
     ]
    }
   ],
   "source": [
    "print(f'Top 5 Features used in the model: {list(top_5_features)}')"
   ]
  },
  {
   "cell_type": "code",
   "execution_count": 37,
   "id": "952c5b71",
   "metadata": {},
   "outputs": [
    {
     "name": "stdout",
     "output_type": "stream",
     "text": [
      "Random Forest R-squared (Top 5 Features): 0.5473226387330119\n",
      "Random Forest RMSE (Top 5 Features): 0.4805703809407119\n",
      "Top 5 Features used in the model: ['egg_price', 'bacon price', 'Thanksgiving', 'Christmas', 'soybean price']\n"
     ]
    }
   ],
   "source": [
    "# Train the Random Forest model with the top 5 features\n",
    "rf_top5 = RandomForestRegressor(n_estimators=100, random_state=42)\n",
    "rf_top5.fit(X_train_top4, y_train)\n",
    "\n",
    "# Predict on the test set\n",
    "rf_pred_top5 = rf_top5.predict(X_test_top4)\n",
    "\n",
    "# Evaluate the model\n",
    "rf_r2_top5 = r2_score(y_test.iloc[:-1], rf_pred_top5[:-1])\n",
    "rf_rmse_top5 = sqrt(mean_squared_error(y_test.iloc[:-1], rf_pred_top5[:-1]))\n",
    "\n",
    "# Display the results\n",
    "print(f'Random Forest R-squared (Top 5 Features): {rf_r2_top5}')\n",
    "print(f'Random Forest RMSE (Top 5 Features): {rf_rmse_top5}')\n",
    "print(f'Top 5 Features used in the model: {list(top_5_features)}')"
   ]
  },
  {
   "cell_type": "code",
   "execution_count": 43,
   "id": "5c86d597",
   "metadata": {},
   "outputs": [
    {
     "data": {
      "text/html": [
       "<div>\n",
       "<style scoped>\n",
       "    .dataframe tbody tr th:only-of-type {\n",
       "        vertical-align: middle;\n",
       "    }\n",
       "\n",
       "    .dataframe tbody tr th {\n",
       "        vertical-align: top;\n",
       "    }\n",
       "\n",
       "    .dataframe thead th {\n",
       "        text-align: right;\n",
       "    }\n",
       "</style>\n",
       "<table border=\"1\" class=\"dataframe\">\n",
       "  <thead>\n",
       "    <tr style=\"text-align: right;\">\n",
       "      <th></th>\n",
       "      <th>Year-Month</th>\n",
       "      <th>Outbreaks</th>\n",
       "      <th>bacon price</th>\n",
       "      <th>potato price</th>\n",
       "      <th>soybean price</th>\n",
       "      <th>wheat price</th>\n",
       "      <th>corn price</th>\n",
       "      <th>Christmas</th>\n",
       "      <th>Thanksgiving</th>\n",
       "      <th>Passover/Easter</th>\n",
       "      <th>gas price</th>\n",
       "    </tr>\n",
       "  </thead>\n",
       "  <tbody>\n",
       "    <tr>\n",
       "      <th>0</th>\n",
       "      <td>2022-02</td>\n",
       "      <td>8</td>\n",
       "      <td>7.097</td>\n",
       "      <td>0.802</td>\n",
       "      <td>15.885375</td>\n",
       "      <td>390.50</td>\n",
       "      <td>6.500600</td>\n",
       "      <td>False</td>\n",
       "      <td>False</td>\n",
       "      <td>False</td>\n",
       "      <td>3.611</td>\n",
       "    </tr>\n",
       "    <tr>\n",
       "      <th>1</th>\n",
       "      <td>2022-03</td>\n",
       "      <td>56</td>\n",
       "      <td>7.203</td>\n",
       "      <td>0.825</td>\n",
       "      <td>16.733152</td>\n",
       "      <td>486.30</td>\n",
       "      <td>7.465652</td>\n",
       "      <td>False</td>\n",
       "      <td>False</td>\n",
       "      <td>False</td>\n",
       "      <td>4.322</td>\n",
       "    </tr>\n",
       "    <tr>\n",
       "      <th>2</th>\n",
       "      <td>2022-04</td>\n",
       "      <td>68</td>\n",
       "      <td>7.422</td>\n",
       "      <td>0.849</td>\n",
       "      <td>16.798190</td>\n",
       "      <td>495.28</td>\n",
       "      <td>7.859310</td>\n",
       "      <td>False</td>\n",
       "      <td>False</td>\n",
       "      <td>True</td>\n",
       "      <td>4.213</td>\n",
       "    </tr>\n",
       "    <tr>\n",
       "      <th>3</th>\n",
       "      <td>2022-05</td>\n",
       "      <td>56</td>\n",
       "      <td>7.364</td>\n",
       "      <td>0.875</td>\n",
       "      <td>16.583690</td>\n",
       "      <td>522.29</td>\n",
       "      <td>7.838690</td>\n",
       "      <td>False</td>\n",
       "      <td>False</td>\n",
       "      <td>False</td>\n",
       "      <td>4.545</td>\n",
       "    </tr>\n",
       "    <tr>\n",
       "      <th>4</th>\n",
       "      <td>2022-06</td>\n",
       "      <td>14</td>\n",
       "      <td>7.403</td>\n",
       "      <td>0.891</td>\n",
       "      <td>16.876064</td>\n",
       "      <td>459.59</td>\n",
       "      <td>7.597964</td>\n",
       "      <td>False</td>\n",
       "      <td>False</td>\n",
       "      <td>False</td>\n",
       "      <td>5.032</td>\n",
       "    </tr>\n",
       "  </tbody>\n",
       "</table>\n",
       "</div>"
      ],
      "text/plain": [
       "  Year-Month  Outbreaks  bacon price  potato price  soybean price  \\\n",
       "0    2022-02          8        7.097         0.802      15.885375   \n",
       "1    2022-03         56        7.203         0.825      16.733152   \n",
       "2    2022-04         68        7.422         0.849      16.798190   \n",
       "3    2022-05         56        7.364         0.875      16.583690   \n",
       "4    2022-06         14        7.403         0.891      16.876064   \n",
       "\n",
       "   wheat price  corn price  Christmas  Thanksgiving  Passover/Easter  \\\n",
       "0       390.50    6.500600      False         False            False   \n",
       "1       486.30    7.465652      False         False            False   \n",
       "2       495.28    7.859310      False         False             True   \n",
       "3       522.29    7.838690      False         False            False   \n",
       "4       459.59    7.597964      False         False            False   \n",
       "\n",
       "   gas price  \n",
       "0      3.611  \n",
       "1      4.322  \n",
       "2      4.213  \n",
       "3      4.545  \n",
       "4      5.032  "
      ]
     },
     "execution_count": 43,
     "metadata": {},
     "output_type": "execute_result"
    }
   ],
   "source": [
    "from statsmodels.stats.outliers_influence import variance_inflation_factor\n",
    "from statsmodels.tools.tools import add_constant\n",
    "\n",
    "# import x\n",
    "X = pd.read_csv(r\"X.csv\")\n",
    "X.head()"
   ]
  },
  {
   "cell_type": "code",
   "execution_count": 45,
   "id": "25700ec9",
   "metadata": {},
   "outputs": [
    {
     "data": {
      "text/html": [
       "<div>\n",
       "<style scoped>\n",
       "    .dataframe tbody tr th:only-of-type {\n",
       "        vertical-align: middle;\n",
       "    }\n",
       "\n",
       "    .dataframe tbody tr th {\n",
       "        vertical-align: top;\n",
       "    }\n",
       "\n",
       "    .dataframe thead th {\n",
       "        text-align: right;\n",
       "    }\n",
       "</style>\n",
       "<table border=\"1\" class=\"dataframe\">\n",
       "  <thead>\n",
       "    <tr style=\"text-align: right;\">\n",
       "      <th></th>\n",
       "      <th>const</th>\n",
       "      <th>Outbreaks</th>\n",
       "      <th>bacon price</th>\n",
       "      <th>potato price</th>\n",
       "      <th>soybean price</th>\n",
       "      <th>wheat price</th>\n",
       "      <th>corn price</th>\n",
       "      <th>gas price</th>\n",
       "    </tr>\n",
       "  </thead>\n",
       "  <tbody>\n",
       "    <tr>\n",
       "      <th>0</th>\n",
       "      <td>1.0</td>\n",
       "      <td>8</td>\n",
       "      <td>7.097</td>\n",
       "      <td>0.802</td>\n",
       "      <td>15.885375</td>\n",
       "      <td>390.50</td>\n",
       "      <td>6.500600</td>\n",
       "      <td>3.611</td>\n",
       "    </tr>\n",
       "    <tr>\n",
       "      <th>1</th>\n",
       "      <td>1.0</td>\n",
       "      <td>56</td>\n",
       "      <td>7.203</td>\n",
       "      <td>0.825</td>\n",
       "      <td>16.733152</td>\n",
       "      <td>486.30</td>\n",
       "      <td>7.465652</td>\n",
       "      <td>4.322</td>\n",
       "    </tr>\n",
       "    <tr>\n",
       "      <th>2</th>\n",
       "      <td>1.0</td>\n",
       "      <td>68</td>\n",
       "      <td>7.422</td>\n",
       "      <td>0.849</td>\n",
       "      <td>16.798190</td>\n",
       "      <td>495.28</td>\n",
       "      <td>7.859310</td>\n",
       "      <td>4.213</td>\n",
       "    </tr>\n",
       "    <tr>\n",
       "      <th>3</th>\n",
       "      <td>1.0</td>\n",
       "      <td>56</td>\n",
       "      <td>7.364</td>\n",
       "      <td>0.875</td>\n",
       "      <td>16.583690</td>\n",
       "      <td>522.29</td>\n",
       "      <td>7.838690</td>\n",
       "      <td>4.545</td>\n",
       "    </tr>\n",
       "    <tr>\n",
       "      <th>4</th>\n",
       "      <td>1.0</td>\n",
       "      <td>14</td>\n",
       "      <td>7.403</td>\n",
       "      <td>0.891</td>\n",
       "      <td>16.876064</td>\n",
       "      <td>459.59</td>\n",
       "      <td>7.597964</td>\n",
       "      <td>5.032</td>\n",
       "    </tr>\n",
       "  </tbody>\n",
       "</table>\n",
       "</div>"
      ],
      "text/plain": [
       "   const  Outbreaks  bacon price  potato price  soybean price  wheat price  \\\n",
       "0    1.0          8        7.097         0.802      15.885375       390.50   \n",
       "1    1.0         56        7.203         0.825      16.733152       486.30   \n",
       "2    1.0         68        7.422         0.849      16.798190       495.28   \n",
       "3    1.0         56        7.364         0.875      16.583690       522.29   \n",
       "4    1.0         14        7.403         0.891      16.876064       459.59   \n",
       "\n",
       "   corn price  gas price  \n",
       "0    6.500600      3.611  \n",
       "1    7.465652      4.322  \n",
       "2    7.859310      4.213  \n",
       "3    7.838690      4.545  \n",
       "4    7.597964      5.032  "
      ]
     },
     "execution_count": 45,
     "metadata": {},
     "output_type": "execute_result"
    }
   ],
   "source": [
    "X_VIF = add_constant(X)  # Adds intercept term for VIF computation\n",
    "X_VIF = X_VIF.drop(columns=['Christmas', 'Thanksgiving', 'Year-Month', 'Passover/Easter'])  # Drop non-numeric columns\n",
    "X_VIF.head()"
   ]
  },
  {
   "cell_type": "code",
   "execution_count": 46,
   "id": "b4c0a9f5",
   "metadata": {},
   "outputs": [
    {
     "name": "stdout",
     "output_type": "stream",
     "text": [
      "         feature          VIF\n",
      "0          const  1422.682657\n",
      "1      Outbreaks     1.381478\n",
      "2    bacon price     2.207755\n",
      "3   potato price     1.544948\n",
      "4  soybean price     8.250990\n",
      "5    wheat price    21.357499\n",
      "6     corn price    23.163139\n",
      "7      gas price     3.558900\n"
     ]
    }
   ],
   "source": [
    "vif_data = pd.DataFrame()\n",
    "vif_data[\"feature\"] = X_VIF.columns\n",
    "vif_data[\"VIF\"] = [variance_inflation_factor(X_VIF.values, i) for i in range(X_VIF.shape[1])]\n",
    "\n",
    "print(vif_data)"
   ]
  },
  {
   "cell_type": "code",
   "execution_count": 50,
   "id": "e16fc843",
   "metadata": {},
   "outputs": [
    {
     "name": "stdout",
     "output_type": "stream",
     "text": [
      "         feature          VIF\n",
      "0          const  1419.891771\n",
      "1      Outbreaks     1.373359\n",
      "2    bacon price     2.175152\n",
      "3   potato price     1.537513\n",
      "4  soybean price     6.653933\n",
      "5    wheat price     7.402632\n",
      "6      gas price     3.324718\n"
     ]
    }
   ],
   "source": [
    "# drop corn because high VIF\n",
    "X_VIF1 = X.drop(columns=['corn price'])\n",
    "X_VIF1 = add_constant(X_VIF1)  # Adds intercept term for VIF computation\n",
    "X_VIF1 = X_VIF1.drop(columns=['Christmas', 'Thanksgiving', 'Year-Month', 'Passover/Easter'])  # Drop non-numeric columns\n",
    "X_VIF1.head()\n",
    "\n",
    "vif_data1 = pd.DataFrame()\n",
    "vif_data1[\"feature\"] = X_VIF1.columns\n",
    "vif_data1[\"VIF\"] = [variance_inflation_factor(X_VIF1.values, i) for i in range(X_VIF1.shape[1])]\n",
    "\n",
    "print(vif_data1)"
   ]
  },
  {
   "cell_type": "code",
   "execution_count": 51,
   "id": "a1ae3108",
   "metadata": {},
   "outputs": [
    {
     "name": "stdout",
     "output_type": "stream",
     "text": [
      "         feature          VIF\n",
      "0          const  1349.962397\n",
      "1      Outbreaks     1.352735\n",
      "2    bacon price     1.940406\n",
      "3   potato price     1.473270\n",
      "4  soybean price     2.492822\n",
      "5      gas price     3.302422\n"
     ]
    }
   ],
   "source": [
    "# drop wheat because high VIF\n",
    "X_VIF2 = X.drop(columns=['corn price', 'wheat price'])\n",
    "X_VIF2 = add_constant(X_VIF2)  # Adds intercept term for VIF computation\n",
    "X_VIF2 = X_VIF2.drop(columns=['Christmas', 'Thanksgiving', 'Year-Month', 'Passover/Easter'])  # Drop non-numeric columns\n",
    "X_VIF2.head()\n",
    "\n",
    "vif_data2 = pd.DataFrame()\n",
    "vif_data2[\"feature\"] = X_VIF2.columns\n",
    "vif_data2[\"VIF\"] = [variance_inflation_factor(X_VIF2.values, i) for i in range(X_VIF2.shape[1])]\n",
    "\n",
    "print(vif_data2)"
   ]
  },
  {
   "cell_type": "markdown",
   "id": "17f0ad15",
   "metadata": {},
   "source": [
    "final features after dropping features with high VIF's:\n",
    "- Outbreaks  \n",
    "- bacon price  \n",
    "- potato price  \n",
    "- soybean price  \n",
    "- gas price  "
   ]
  },
  {
   "cell_type": "code",
   "execution_count": 52,
   "id": "c8940ed9",
   "metadata": {},
   "outputs": [
    {
     "data": {
      "text/html": [
       "<div>\n",
       "<style scoped>\n",
       "    .dataframe tbody tr th:only-of-type {\n",
       "        vertical-align: middle;\n",
       "    }\n",
       "\n",
       "    .dataframe tbody tr th {\n",
       "        vertical-align: top;\n",
       "    }\n",
       "\n",
       "    .dataframe thead th {\n",
       "        text-align: right;\n",
       "    }\n",
       "</style>\n",
       "<table border=\"1\" class=\"dataframe\">\n",
       "  <thead>\n",
       "    <tr style=\"text-align: right;\">\n",
       "      <th></th>\n",
       "      <th>const</th>\n",
       "      <th>Outbreaks</th>\n",
       "      <th>bacon price</th>\n",
       "      <th>potato price</th>\n",
       "      <th>soybean price</th>\n",
       "      <th>wheat price</th>\n",
       "      <th>corn price</th>\n",
       "      <th>Christmas</th>\n",
       "      <th>Thanksgiving</th>\n",
       "      <th>Passover/Easter</th>\n",
       "      <th>gas price</th>\n",
       "      <th>egg_price</th>\n",
       "    </tr>\n",
       "  </thead>\n",
       "  <tbody>\n",
       "    <tr>\n",
       "      <th>0</th>\n",
       "      <td>1.0</td>\n",
       "      <td>8</td>\n",
       "      <td>7.097</td>\n",
       "      <td>0.802</td>\n",
       "      <td>15.885375</td>\n",
       "      <td>390.50</td>\n",
       "      <td>6.500600</td>\n",
       "      <td>False</td>\n",
       "      <td>False</td>\n",
       "      <td>False</td>\n",
       "      <td>3.611</td>\n",
       "      <td>2.005</td>\n",
       "    </tr>\n",
       "    <tr>\n",
       "      <th>1</th>\n",
       "      <td>1.0</td>\n",
       "      <td>56</td>\n",
       "      <td>7.203</td>\n",
       "      <td>0.825</td>\n",
       "      <td>16.733152</td>\n",
       "      <td>486.30</td>\n",
       "      <td>7.465652</td>\n",
       "      <td>False</td>\n",
       "      <td>False</td>\n",
       "      <td>False</td>\n",
       "      <td>4.322</td>\n",
       "      <td>2.046</td>\n",
       "    </tr>\n",
       "    <tr>\n",
       "      <th>2</th>\n",
       "      <td>1.0</td>\n",
       "      <td>68</td>\n",
       "      <td>7.422</td>\n",
       "      <td>0.849</td>\n",
       "      <td>16.798190</td>\n",
       "      <td>495.28</td>\n",
       "      <td>7.859310</td>\n",
       "      <td>False</td>\n",
       "      <td>False</td>\n",
       "      <td>True</td>\n",
       "      <td>4.213</td>\n",
       "      <td>2.520</td>\n",
       "    </tr>\n",
       "    <tr>\n",
       "      <th>3</th>\n",
       "      <td>1.0</td>\n",
       "      <td>56</td>\n",
       "      <td>7.364</td>\n",
       "      <td>0.875</td>\n",
       "      <td>16.583690</td>\n",
       "      <td>522.29</td>\n",
       "      <td>7.838690</td>\n",
       "      <td>False</td>\n",
       "      <td>False</td>\n",
       "      <td>False</td>\n",
       "      <td>4.545</td>\n",
       "      <td>2.863</td>\n",
       "    </tr>\n",
       "    <tr>\n",
       "      <th>4</th>\n",
       "      <td>1.0</td>\n",
       "      <td>14</td>\n",
       "      <td>7.403</td>\n",
       "      <td>0.891</td>\n",
       "      <td>16.876064</td>\n",
       "      <td>459.59</td>\n",
       "      <td>7.597964</td>\n",
       "      <td>False</td>\n",
       "      <td>False</td>\n",
       "      <td>False</td>\n",
       "      <td>5.032</td>\n",
       "      <td>2.707</td>\n",
       "    </tr>\n",
       "  </tbody>\n",
       "</table>\n",
       "</div>"
      ],
      "text/plain": [
       "   const  Outbreaks  bacon price  potato price  soybean price  wheat price  \\\n",
       "0    1.0          8        7.097         0.802      15.885375       390.50   \n",
       "1    1.0         56        7.203         0.825      16.733152       486.30   \n",
       "2    1.0         68        7.422         0.849      16.798190       495.28   \n",
       "3    1.0         56        7.364         0.875      16.583690       522.29   \n",
       "4    1.0         14        7.403         0.891      16.876064       459.59   \n",
       "\n",
       "   corn price  Christmas  Thanksgiving  Passover/Easter  gas price  egg_price  \n",
       "0    6.500600      False         False            False      3.611      2.005  \n",
       "1    7.465652      False         False            False      4.322      2.046  \n",
       "2    7.859310      False         False             True      4.213      2.520  \n",
       "3    7.838690      False         False            False      4.545      2.863  \n",
       "4    7.597964      False         False            False      5.032      2.707  "
      ]
     },
     "execution_count": 52,
     "metadata": {},
     "output_type": "execute_result"
    }
   ],
   "source": [
    "X_train.head()"
   ]
  },
  {
   "cell_type": "code",
   "execution_count": 54,
   "id": "c4838b1b",
   "metadata": {},
   "outputs": [
    {
     "name": "stdout",
     "output_type": "stream",
     "text": [
      "Linear Regression Model with VIF Features Removed\n",
      "Root Mean Squared Error (after VIF): 0.33337459225460103\n",
      "R-squared (with VIF features removed): 0.4681320302156279\n"
     ]
    }
   ],
   "source": [
    "# Retrain backtesting model with corn and wheat removed\n",
    "VIF_features = ['corn price', 'wheat price','const']\n",
    "X_train_VIF = X_train.drop(columns=VIF_features)\n",
    "X_test_VIF = X_test.drop(columns=VIF_features)\n",
    "\n",
    "# Train the linear regression model\n",
    "lr_VIF = LinearRegression()\n",
    "lr_VIF.fit(X_train_VIF, y_train)\n",
    "\n",
    "# Predict on the test set\n",
    "pred_VIF = lr_VIF.predict(X_test_VIF)\n",
    "\n",
    "# Evaluate the model\n",
    "mse_VIF = mean_squared_error(y_test.iloc[:-1], pred_VIF[:-1])\n",
    "r2_VIF = r2_score(y_test.iloc[:-1], pred_VIF[:-1])\n",
    "\n",
    "print('Linear Regression Model with VIF Features Removed')\n",
    "print(f'Root Mean Squared Error (after VIF): {sqrt(mse_VIF)}')\n",
    "print(f'R-squared (with VIF features removed): {r2_top3}')"
   ]
  },
  {
   "cell_type": "markdown",
   "id": "2f204d68",
   "metadata": {},
   "source": [
    "No improvement with VIF features removed - go with first model including all features"
   ]
  },
  {
   "cell_type": "code",
   "execution_count": null,
   "id": "659b087d",
   "metadata": {},
   "outputs": [],
   "source": []
  }
 ],
 "metadata": {
  "kernelspec": {
   "display_name": "Python 3",
   "language": "python",
   "name": "python3"
  },
  "language_info": {
   "codemirror_mode": {
    "name": "ipython",
    "version": 3
   },
   "file_extension": ".py",
   "mimetype": "text/x-python",
   "name": "python",
   "nbconvert_exporter": "python",
   "pygments_lexer": "ipython3",
   "version": "3.10.11"
  }
 },
 "nbformat": 4,
 "nbformat_minor": 5
}
