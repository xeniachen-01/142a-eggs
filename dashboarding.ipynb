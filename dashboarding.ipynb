{
 "cells": [
  {
   "cell_type": "code",
   "execution_count": 4,
   "id": "83b9e5d2",
   "metadata": {},
   "outputs": [
    {
     "data": {
      "text/html": [
       "\n",
       "        <iframe\n",
       "            width=\"100%\"\n",
       "            height=\"650\"\n",
       "            src=\"http://127.0.0.1:8050/\"\n",
       "            frameborder=\"0\"\n",
       "            allowfullscreen\n",
       "            \n",
       "        ></iframe>\n",
       "        "
      ],
      "text/plain": [
       "<IPython.lib.display.IFrame at 0x1f35a07fa00>"
      ]
     },
     "metadata": {},
     "output_type": "display_data"
    }
   ],
   "source": [
    "from dash import Dash, html, dcc, callback, Output, Input\n",
    "import plotly.express as px\n",
    "import pandas as pd\n",
    "\n",
    "# Import X and y csv files\n",
    "X = pd.read_csv('X.csv')\n",
    "y = pd.read_csv('y.csv')\n",
    "\n",
    "# Create a dashboard for X and y datasets\n",
    "app = Dash()\n",
    "\n",
    "# Layout for the dashboard\n",
    "app.layout = html.Div([\n",
    "    html.H1(children='Dashboard for X and y Datasets', style={'textAlign': 'center'}),\n",
    "    \n",
    "    html.Div([\n",
    "        html.H3('Select Dataset:'),\n",
    "        dcc.RadioItems(\n",
    "            id='dataset-selection',\n",
    "            options=[\n",
    "                {'label': 'Dataset X', 'value': 'X'},\n",
    "                {'label': 'Dataset y', 'value': 'y'}\n",
    "            ],\n",
    "            value='X'\n",
    "        )\n",
    "    ], style={'margin-bottom': '20px'}),\n",
    "    \n",
    "    html.Div([\n",
    "        html.H3('Select Column for Visualization:'),\n",
    "        dcc.Dropdown(id='column-selection')\n",
    "    ], style={'margin-bottom': '20px'}),\n",
    "    \n",
    "    dcc.Graph(id='graph-content')\n",
    "])\n",
    "\n",
    "# Callback to update column dropdown based on dataset selection\n",
    "@callback(\n",
    "    Output('column-selection', 'options'),\n",
    "    Output('column-selection', 'value'),\n",
    "    Input('dataset-selection', 'value')\n",
    ")\n",
    "def update_columns(dataset):\n",
    "    if dataset == 'X':\n",
    "        columns = [{'label': col, 'value': col} for col in X.columns if X[col].dtype in ['float64', 'int64']]\n",
    "        return columns, columns[0]['value'] if columns else None\n",
    "    elif dataset == 'y':\n",
    "        columns = [{'label': col, 'value': col} for col in y.columns if y[col].dtype in ['float64', 'int64']]\n",
    "        return columns, columns[0]['value'] if columns else None\n",
    "\n",
    "# Callback to update graph based on dataset and column selection\n",
    "@callback(\n",
    "    Output('graph-content', 'figure'),\n",
    "    Input('dataset-selection', 'value'),\n",
    "    Input('column-selection', 'value')\n",
    ")\n",
    "def update_graph(dataset, column):\n",
    "    if dataset == 'X':\n",
    "        dff = X\n",
    "    elif dataset == 'y':\n",
    "        dff = y\n",
    "    else:\n",
    "        return px.scatter()  # Return an empty figure if no dataset is selected\n",
    "    \n",
    "    return px.line(dff, x='Year-Month', y=column, title=f'{column} over Time')\n",
    "\n",
    "if __name__ == '__main__':\n",
    "    app.run(debug=True)"
   ]
  },
  {
   "cell_type": "code",
   "execution_count": null,
   "id": "336ce2ba",
   "metadata": {},
   "outputs": [],
   "source": []
  }
 ],
 "metadata": {
  "kernelspec": {
   "display_name": "Python 3",
   "language": "python",
   "name": "python3"
  },
  "language_info": {
   "codemirror_mode": {
    "name": "ipython",
    "version": 3
   },
   "file_extension": ".py",
   "mimetype": "text/x-python",
   "name": "python",
   "nbconvert_exporter": "python",
   "pygments_lexer": "ipython3",
   "version": "3.10.11"
  }
 },
 "nbformat": 4,
 "nbformat_minor": 5
}
